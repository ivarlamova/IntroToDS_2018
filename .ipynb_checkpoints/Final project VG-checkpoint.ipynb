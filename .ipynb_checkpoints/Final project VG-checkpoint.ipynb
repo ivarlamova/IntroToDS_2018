{
 "cells": [
  {
   "cell_type": "markdown",
   "metadata": {},
   "source": [
    "## We try to use neural network approach for atomic coordinate prediction"
   ]
  },
  {
   "cell_type": "markdown",
   "metadata": {},
   "source": [
    "#### Density functional theory that is the most successful method calculates atomic coordinates faster than other mathematical approaches, and it also reaches more accurate results. However, the elapsed time for calculation of high number atoms is quite long which is yielded in this study using CASTEP. Calculation may take several days due to computer’s power. On the other hand, users need to use more powerful machines and parallel computers which are too expensive to reduce the calculation time. Using of maching learning method can degrees the calculation time for atomic coordinates from days to minutes."
   ]
  },
  {
   "cell_type": "code",
   "execution_count": 1,
   "metadata": {},
   "outputs": [],
   "source": [
    "import numpy as np\n",
    "import pandas as pd\n",
    "import seaborn as sns\n",
    "sns.set()\n",
    "from matplotlib import pyplot as plt\n",
    "%matplotlib inline\n",
    "from sklearn.metrics import mean_squared_error \n",
    "from math import sqrt"
   ]
  },
  {
   "cell_type": "markdown",
   "metadata": {},
   "source": [
    "#### Load data and take information about coordinates"
   ]
  },
  {
   "cell_type": "code",
   "execution_count": 2,
   "metadata": {
    "scrolled": true
   },
   "outputs": [
    {
     "data": {
      "text/html": [
       "<div>\n",
       "<style scoped>\n",
       "    .dataframe tbody tr th:only-of-type {\n",
       "        vertical-align: middle;\n",
       "    }\n",
       "\n",
       "    .dataframe tbody tr th {\n",
       "        vertical-align: top;\n",
       "    }\n",
       "\n",
       "    .dataframe thead th {\n",
       "        text-align: right;\n",
       "    }\n",
       "</style>\n",
       "<table border=\"1\" class=\"dataframe\">\n",
       "  <thead>\n",
       "    <tr style=\"text-align: right;\">\n",
       "      <th></th>\n",
       "      <th>Chiral indice n</th>\n",
       "      <th>Chiral indice m</th>\n",
       "      <th>Initial atomic coordinate u</th>\n",
       "      <th>Initial atomic coordinate v</th>\n",
       "      <th>Initial atomic coordinate w</th>\n",
       "      <th>Calculated atomic coordinates u'</th>\n",
       "      <th>Calculated atomic coordinates v'</th>\n",
       "      <th>Calculated atomic coordinates w'</th>\n",
       "    </tr>\n",
       "  </thead>\n",
       "  <tbody>\n",
       "    <tr>\n",
       "      <th>0</th>\n",
       "      <td>2</td>\n",
       "      <td>1</td>\n",
       "      <td>0,679005</td>\n",
       "      <td>0,701318</td>\n",
       "      <td>0,017033</td>\n",
       "      <td>0,721039</td>\n",
       "      <td>0,730232</td>\n",
       "      <td>0,017014</td>\n",
       "    </tr>\n",
       "    <tr>\n",
       "      <th>1</th>\n",
       "      <td>2</td>\n",
       "      <td>1</td>\n",
       "      <td>0,717298</td>\n",
       "      <td>0,642129</td>\n",
       "      <td>0,231319</td>\n",
       "      <td>0,738414</td>\n",
       "      <td>0,65675</td>\n",
       "      <td>0,232369</td>\n",
       "    </tr>\n",
       "    <tr>\n",
       "      <th>2</th>\n",
       "      <td>2</td>\n",
       "      <td>1</td>\n",
       "      <td>0,489336</td>\n",
       "      <td>0,303751</td>\n",
       "      <td>0,088462</td>\n",
       "      <td>0,477676</td>\n",
       "      <td>0,263221</td>\n",
       "      <td>0,088712</td>\n",
       "    </tr>\n",
       "    <tr>\n",
       "      <th>3</th>\n",
       "      <td>2</td>\n",
       "      <td>1</td>\n",
       "      <td>0,413957</td>\n",
       "      <td>0,632996</td>\n",
       "      <td>0,040843</td>\n",
       "      <td>0,408823</td>\n",
       "      <td>0,657897</td>\n",
       "      <td>0,039796</td>\n",
       "    </tr>\n",
       "    <tr>\n",
       "      <th>4</th>\n",
       "      <td>2</td>\n",
       "      <td>1</td>\n",
       "      <td>0,334292</td>\n",
       "      <td>0,543401</td>\n",
       "      <td>0,15989</td>\n",
       "      <td>0,303349</td>\n",
       "      <td>0,558807</td>\n",
       "      <td>0,157373</td>\n",
       "    </tr>\n",
       "  </tbody>\n",
       "</table>\n",
       "</div>"
      ],
      "text/plain": [
       "   Chiral indice n  Chiral indice m Initial atomic coordinate u  \\\n",
       "0                2                1                    0,679005   \n",
       "1                2                1                    0,717298   \n",
       "2                2                1                    0,489336   \n",
       "3                2                1                    0,413957   \n",
       "4                2                1                    0,334292   \n",
       "\n",
       "  Initial atomic coordinate v Initial atomic coordinate w  \\\n",
       "0                    0,701318                    0,017033   \n",
       "1                    0,642129                    0,231319   \n",
       "2                    0,303751                    0,088462   \n",
       "3                    0,632996                    0,040843   \n",
       "4                    0,543401                     0,15989   \n",
       "\n",
       "  Calculated atomic coordinates u' Calculated atomic coordinates v'  \\\n",
       "0                         0,721039                         0,730232   \n",
       "1                         0,738414                          0,65675   \n",
       "2                         0,477676                         0,263221   \n",
       "3                         0,408823                         0,657897   \n",
       "4                         0,303349                         0,558807   \n",
       "\n",
       "  Calculated atomic coordinates w'  \n",
       "0                         0,017014  \n",
       "1                         0,232369  \n",
       "2                         0,088712  \n",
       "3                         0,039796  \n",
       "4                         0,157373  "
      ]
     },
     "execution_count": 2,
     "metadata": {},
     "output_type": "execute_result"
    }
   ],
   "source": [
    "nano=pd.read_csv('./carbon_nanotubes.csv', sep=';')\n",
    "nano.head()"
   ]
  },
  {
   "cell_type": "markdown",
   "metadata": {},
   "source": [
    "#### Replace comma to point and change the object type to float "
   ]
  },
  {
   "cell_type": "code",
   "execution_count": 3,
   "metadata": {},
   "outputs": [],
   "source": [
    "for c in nano.columns:\n",
    "    if c != 'Chiral indice n' and c!= 'Chiral indice m':\n",
    "        nano[c] = [x.replace(',', '.') for x in nano[c]]\n",
    "        nano[c] = nano[c].astype('float64') "
   ]
  },
  {
   "cell_type": "code",
   "execution_count": 4,
   "metadata": {},
   "outputs": [
    {
     "data": {
      "text/html": [
       "<div>\n",
       "<style scoped>\n",
       "    .dataframe tbody tr th:only-of-type {\n",
       "        vertical-align: middle;\n",
       "    }\n",
       "\n",
       "    .dataframe tbody tr th {\n",
       "        vertical-align: top;\n",
       "    }\n",
       "\n",
       "    .dataframe thead th {\n",
       "        text-align: right;\n",
       "    }\n",
       "</style>\n",
       "<table border=\"1\" class=\"dataframe\">\n",
       "  <thead>\n",
       "    <tr style=\"text-align: right;\">\n",
       "      <th></th>\n",
       "      <th>Chiral indice n</th>\n",
       "      <th>Chiral indice m</th>\n",
       "      <th>Initial atomic coordinate u</th>\n",
       "      <th>Initial atomic coordinate v</th>\n",
       "      <th>Initial atomic coordinate w</th>\n",
       "      <th>Calculated atomic coordinates u'</th>\n",
       "      <th>Calculated atomic coordinates v'</th>\n",
       "      <th>Calculated atomic coordinates w'</th>\n",
       "    </tr>\n",
       "  </thead>\n",
       "  <tbody>\n",
       "    <tr>\n",
       "      <th>0</th>\n",
       "      <td>2</td>\n",
       "      <td>1</td>\n",
       "      <td>0.679005</td>\n",
       "      <td>0.701318</td>\n",
       "      <td>0.017033</td>\n",
       "      <td>0.721039</td>\n",
       "      <td>0.730232</td>\n",
       "      <td>0.017014</td>\n",
       "    </tr>\n",
       "    <tr>\n",
       "      <th>1</th>\n",
       "      <td>2</td>\n",
       "      <td>1</td>\n",
       "      <td>0.717298</td>\n",
       "      <td>0.642129</td>\n",
       "      <td>0.231319</td>\n",
       "      <td>0.738414</td>\n",
       "      <td>0.656750</td>\n",
       "      <td>0.232369</td>\n",
       "    </tr>\n",
       "    <tr>\n",
       "      <th>2</th>\n",
       "      <td>2</td>\n",
       "      <td>1</td>\n",
       "      <td>0.489336</td>\n",
       "      <td>0.303751</td>\n",
       "      <td>0.088462</td>\n",
       "      <td>0.477676</td>\n",
       "      <td>0.263221</td>\n",
       "      <td>0.088712</td>\n",
       "    </tr>\n",
       "    <tr>\n",
       "      <th>3</th>\n",
       "      <td>2</td>\n",
       "      <td>1</td>\n",
       "      <td>0.413957</td>\n",
       "      <td>0.632996</td>\n",
       "      <td>0.040843</td>\n",
       "      <td>0.408823</td>\n",
       "      <td>0.657897</td>\n",
       "      <td>0.039796</td>\n",
       "    </tr>\n",
       "    <tr>\n",
       "      <th>4</th>\n",
       "      <td>2</td>\n",
       "      <td>1</td>\n",
       "      <td>0.334292</td>\n",
       "      <td>0.543401</td>\n",
       "      <td>0.159890</td>\n",
       "      <td>0.303349</td>\n",
       "      <td>0.558807</td>\n",
       "      <td>0.157373</td>\n",
       "    </tr>\n",
       "  </tbody>\n",
       "</table>\n",
       "</div>"
      ],
      "text/plain": [
       "   Chiral indice n  Chiral indice m  Initial atomic coordinate u  \\\n",
       "0                2                1                     0.679005   \n",
       "1                2                1                     0.717298   \n",
       "2                2                1                     0.489336   \n",
       "3                2                1                     0.413957   \n",
       "4                2                1                     0.334292   \n",
       "\n",
       "   Initial atomic coordinate v  Initial atomic coordinate w  \\\n",
       "0                     0.701318                     0.017033   \n",
       "1                     0.642129                     0.231319   \n",
       "2                     0.303751                     0.088462   \n",
       "3                     0.632996                     0.040843   \n",
       "4                     0.543401                     0.159890   \n",
       "\n",
       "   Calculated atomic coordinates u'  Calculated atomic coordinates v'  \\\n",
       "0                          0.721039                          0.730232   \n",
       "1                          0.738414                          0.656750   \n",
       "2                          0.477676                          0.263221   \n",
       "3                          0.408823                          0.657897   \n",
       "4                          0.303349                          0.558807   \n",
       "\n",
       "   Calculated atomic coordinates w'  \n",
       "0                          0.017014  \n",
       "1                          0.232369  \n",
       "2                          0.088712  \n",
       "3                          0.039796  \n",
       "4                          0.157373  "
      ]
     },
     "execution_count": 4,
     "metadata": {},
     "output_type": "execute_result"
    }
   ],
   "source": [
    "nano.head()"
   ]
  },
  {
   "cell_type": "code",
   "execution_count": 8,
   "metadata": {},
   "outputs": [
    {
     "data": {
      "text/plain": [
       "<matplotlib.axes._subplots.AxesSubplot at 0x1d1b92b5978>"
      ]
     },
     "execution_count": 8,
     "metadata": {},
     "output_type": "execute_result"
    },
    {
     "data": {
      "image/png": "[encoded data removed]",
      "text/plain": [
       "<Figure size 432x288 with 2 Axes>"
      ]
     },
     "metadata": {},
     "output_type": "display_data"
    }
   ],
   "source": [
    "sns.heatmap(nano.corr())"
   ]
  },
  {
   "cell_type": "markdown",
   "metadata": {},
   "source": [
    "#### There are clear see that our output data have a strong correlation between  appropriate axes(coordinates)"
   ]
  },
  {
   "cell_type": "markdown",
   "metadata": {},
   "source": [
    "#### To understand how many types of nanotubes coexist in this data base we create a diagram to determine couple of  the chiral indices which corresponds conductor and semiconductor"
   ]
  },
  {
   "cell_type": "code",
   "execution_count": 5,
   "metadata": {},
   "outputs": [
    {
     "name": "stderr",
     "output_type": "stream",
     "text": [
      "C:\\Users\\laureate2033\\Anaconda3\\lib\\site-packages\\scipy\\stats\\stats.py:1713: FutureWarning: Using a non-tuple sequence for multidimensional indexing is deprecated; use `arr[tuple(seq)]` instead of `arr[seq]`. In the future this will be interpreted as an array index, `arr[np.array(seq)]`, which will result either in an error or a different result.\n",
      "  return np.add.reduce(sorted[indexer] * weights, axis=axis) / sumval\n"
     ]
    },
    {
     "data": {
      "text/plain": [
       "<seaborn.axisgrid.JointGrid at 0x1d1b72b4a58>"
      ]
     },
     "execution_count": 5,
     "metadata": {},
     "output_type": "execute_result"
    },
    {
     "data": {
      "image/png": "[encoded data removed]",
      "text/plain": [
       "<Figure size 432x432 with 3 Axes>"
      ]
     },
     "metadata": {},
     "output_type": "display_data"
    }
   ],
   "source": [
    "sns.set(style=\"darkgrid\")\n",
    "sns.jointplot(\"Chiral indice n\",\"Chiral indice m\", data=nano, kind=\"reg\", color=\"r\")"
   ]
  },
  {
   "cell_type": "markdown",
   "metadata": {},
   "source": [
    "#### How we can see our data base contains just chiral type of nanotubes (without arcmchair(n!=m) and zigzag types (m!=0))"
   ]
  },
  {
   "cell_type": "markdown",
   "metadata": {},
   "source": [
    "#### Create plots of changing coordination to try to understand how out coordinate dependent on input ones"
   ]
  },
  {
   "cell_type": "code",
   "execution_count": 6,
   "metadata": {},
   "outputs": [],
   "source": [
    "nano_u=nano[\"Calculated atomic coordinates u'\"]-nano[\"Initial atomic coordinate u\"]\n",
    "nano_v=nano[\"Calculated atomic coordinates v'\"]-nano[\"Initial atomic coordinate v\"]\n",
    "nano_w=nano[\"Calculated atomic coordinates w'\"]-nano[\"Initial atomic coordinate w\"]"
   ]
  },
  {
   "cell_type": "code",
   "execution_count": 7,
   "metadata": {},
   "outputs": [
    {
     "data": {
      "text/plain": [
       "Text(0.5,1,'w')"
      ]
     },
     "execution_count": 7,
     "metadata": {},
     "output_type": "execute_result"
    },
    {
     "data": {
      "image/png": "[encoded data removed]",
      "text/plain": [
       "<Figure size 1080x1080 with 3 Axes>"
      ]
     },
     "metadata": {},
     "output_type": "display_data"
    }
   ],
   "source": [
    "fig = plt.figure(figsize=(15,15))\n",
    "\n",
    "ax1 = fig.add_subplot(311)\n",
    "ax1.plot(range(10721), nano_u)\n",
    "ax1.set_title('u')\n",
    "\n",
    "ax2 = fig.add_subplot(312)\n",
    "ax2.plot(range(10721), nano_v)\n",
    "ax2.set_title('v')\n",
    "\n",
    "ax3 = fig.add_subplot(313)\n",
    "ax3.plot(range(10721), nano_w)\n",
    "ax3.set_title('w')\n"
   ]
  },
  {
   "cell_type": "markdown",
   "metadata": {},
   "source": [
    "#### Unfortunately, this task doesn't have some features, which we can use to generate a new specific features and according to the article \"Acı M., Avcı M. Artificial neural network approach for atomic coordinate prediction of carbon nanotubes //Applied Physics A. – 2016. – Т. 122. – №. 7. – С. 631.\" we need to use neural network to predict output data using of input data(u,v,w coordinates)"
   ]
  },
  {
   "cell_type": "markdown",
   "metadata": {},
   "source": [
    "#### It means we have influence between u, v coordinate\n",
    "#### See a heatmap to understand other correlations between parametres"
   ]
  },
  {
   "cell_type": "markdown",
   "metadata": {},
   "source": [
    "#### Create our target and X"
   ]
  },
  {
   "cell_type": "code",
   "execution_count": 10,
   "metadata": {},
   "outputs": [],
   "source": [
    "nano_copy = nano.copy()"
   ]
  },
  {
   "cell_type": "code",
   "execution_count": 11,
   "metadata": {},
   "outputs": [],
   "source": [
    "from sklearn.model_selection import train_test_split\n",
    "X_nano = nano_copy.drop(\"Calculated atomic coordinates u'\", axis=1)\n",
    "X_nano = X_nano.drop(\"Calculated atomic coordinates v'\", axis=1)\n",
    "X_nano = X_nano.drop(\"Calculated atomic coordinates w'\",axis=1)\n",
    "Y_nano = nano_copy.loc[ :, \"Calculated atomic coordinates u'\":\"Calculated atomic coordinates w'\"]"
   ]
  },
  {
   "cell_type": "markdown",
   "metadata": {},
   "source": [
    "#### Normalize our data"
   ]
  },
  {
   "cell_type": "markdown",
   "metadata": {},
   "source": [
    "#### if we use data normalization we need to take sqrt of dispersion and standard deviation equals to 1, average value is approximately 0"
   ]
  },
  {
   "cell_type": "markdown",
   "metadata": {},
   "source": [
    "#### Using crossvalidation to prepare our train and test data"
   ]
  },
  {
   "cell_type": "code",
   "execution_count": 12,
   "metadata": {
    "collapsed": true
   },
   "outputs": [
    {
     "data": {
      "text/html": [
       "<div>\n",
       "<style scoped>\n",
       "    .dataframe tbody tr th:only-of-type {\n",
       "        vertical-align: middle;\n",
       "    }\n",
       "\n",
       "    .dataframe tbody tr th {\n",
       "        vertical-align: top;\n",
       "    }\n",
       "\n",
       "    .dataframe thead th {\n",
       "        text-align: right;\n",
       "    }\n",
       "</style>\n",
       "<table border=\"1\" class=\"dataframe\">\n",
       "  <thead>\n",
       "    <tr style=\"text-align: right;\">\n",
       "      <th></th>\n",
       "      <th>Calculated atomic coordinates u'</th>\n",
       "      <th>Calculated atomic coordinates v'</th>\n",
       "      <th>Calculated atomic coordinates w'</th>\n",
       "    </tr>\n",
       "  </thead>\n",
       "  <tbody>\n",
       "    <tr>\n",
       "      <th>0</th>\n",
       "      <td>0.759569</td>\n",
       "      <td>0.790933</td>\n",
       "      <td>-1.670188</td>\n",
       "    </tr>\n",
       "    <tr>\n",
       "      <th>1</th>\n",
       "      <td>0.819293</td>\n",
       "      <td>0.538416</td>\n",
       "      <td>-0.925224</td>\n",
       "    </tr>\n",
       "    <tr>\n",
       "      <th>2</th>\n",
       "      <td>-0.076956</td>\n",
       "      <td>-0.813926</td>\n",
       "      <td>-1.422167</td>\n",
       "    </tr>\n",
       "    <tr>\n",
       "      <th>3</th>\n",
       "      <td>-0.313629</td>\n",
       "      <td>0.542357</td>\n",
       "      <td>-1.591379</td>\n",
       "    </tr>\n",
       "    <tr>\n",
       "      <th>4</th>\n",
       "      <td>-0.676180</td>\n",
       "      <td>0.201840</td>\n",
       "      <td>-1.184653</td>\n",
       "    </tr>\n",
       "  </tbody>\n",
       "</table>\n",
       "</div>"
      ],
      "text/plain": [
       "   Calculated atomic coordinates u'  Calculated atomic coordinates v'  \\\n",
       "0                          0.759569                          0.790933   \n",
       "1                          0.819293                          0.538416   \n",
       "2                         -0.076956                         -0.813926   \n",
       "3                         -0.313629                          0.542357   \n",
       "4                         -0.676180                          0.201840   \n",
       "\n",
       "   Calculated atomic coordinates w'  \n",
       "0                         -1.670188  \n",
       "1                         -0.925224  \n",
       "2                         -1.422167  \n",
       "3                         -1.591379  \n",
       "4                         -1.184653  "
      ]
     },
     "execution_count": 12,
     "metadata": {},
     "output_type": "execute_result"
    }
   ],
   "source": [
    "from sklearn.preprocessing import StandardScaler\n",
    "#Y_nano = Y_nano.loc[ : , :]\n",
    "scaled = StandardScaler().fit_transform(Y_nano.values)\n",
    "Y_nano_scaled = pd.DataFrame(scaled, index=Y_nano.index, columns=Y_nano.columns)\n",
    "Y_nano_scaled.head() "
   ]
  },
  {
   "cell_type": "code",
   "execution_count": 30,
   "metadata": {},
   "outputs": [
    {
     "data": {
      "text/html": [
       "<div>\n",
       "<style scoped>\n",
       "    .dataframe tbody tr th:only-of-type {\n",
       "        vertical-align: middle;\n",
       "    }\n",
       "\n",
       "    .dataframe tbody tr th {\n",
       "        vertical-align: top;\n",
       "    }\n",
       "\n",
       "    .dataframe thead th {\n",
       "        text-align: right;\n",
       "    }\n",
       "</style>\n",
       "<table border=\"1\" class=\"dataframe\">\n",
       "  <thead>\n",
       "    <tr style=\"text-align: right;\">\n",
       "      <th></th>\n",
       "      <th>Chiral indice n</th>\n",
       "      <th>Chiral indice m</th>\n",
       "      <th>Initial atomic coordinate u</th>\n",
       "      <th>Initial atomic coordinate v</th>\n",
       "      <th>Initial atomic coordinate w</th>\n",
       "    </tr>\n",
       "  </thead>\n",
       "  <tbody>\n",
       "    <tr>\n",
       "      <th>0</th>\n",
       "      <td>-2.910823</td>\n",
       "      <td>-1.388042</td>\n",
       "      <td>0.624554</td>\n",
       "      <td>0.702474</td>\n",
       "      <td>-1.672867</td>\n",
       "    </tr>\n",
       "    <tr>\n",
       "      <th>1</th>\n",
       "      <td>-2.910823</td>\n",
       "      <td>-1.388042</td>\n",
       "      <td>0.758206</td>\n",
       "      <td>0.495867</td>\n",
       "      <td>-0.930080</td>\n",
       "    </tr>\n",
       "    <tr>\n",
       "      <th>2</th>\n",
       "      <td>-2.910823</td>\n",
       "      <td>-1.388042</td>\n",
       "      <td>-0.037442</td>\n",
       "      <td>-0.685282</td>\n",
       "      <td>-1.425270</td>\n",
       "    </tr>\n",
       "    <tr>\n",
       "      <th>3</th>\n",
       "      <td>-2.910823</td>\n",
       "      <td>-1.388042</td>\n",
       "      <td>-0.300535</td>\n",
       "      <td>0.463987</td>\n",
       "      <td>-1.590333</td>\n",
       "    </tr>\n",
       "    <tr>\n",
       "      <th>4</th>\n",
       "      <td>-2.910823</td>\n",
       "      <td>-1.388042</td>\n",
       "      <td>-0.578588</td>\n",
       "      <td>0.151245</td>\n",
       "      <td>-1.177677</td>\n",
       "    </tr>\n",
       "  </tbody>\n",
       "</table>\n",
       "</div>"
      ],
      "text/plain": [
       "   Chiral indice n  Chiral indice m  Initial atomic coordinate u  \\\n",
       "0        -2.910823        -1.388042                     0.624554   \n",
       "1        -2.910823        -1.388042                     0.758206   \n",
       "2        -2.910823        -1.388042                    -0.037442   \n",
       "3        -2.910823        -1.388042                    -0.300535   \n",
       "4        -2.910823        -1.388042                    -0.578588   \n",
       "\n",
       "   Initial atomic coordinate v  Initial atomic coordinate w  \n",
       "0                     0.702474                    -1.672867  \n",
       "1                     0.495867                    -0.930080  \n",
       "2                    -0.685282                    -1.425270  \n",
       "3                     0.463987                    -1.590333  \n",
       "4                     0.151245                    -1.177677  "
      ]
     },
     "execution_count": 30,
     "metadata": {},
     "output_type": "execute_result"
    }
   ],
   "source": [
    "from sklearn.preprocessing import StandardScaler\n",
    "#X_nano = X_nano.loc[ : , \"Initial atomic coordinate u'\": ]\n",
    "scaled = StandardScaler().fit_transform(X_nano.values)\n",
    "X_nano_scaled = pd.DataFrame(scaled, index=X_nano.index, columns=X_nano.columns)\n",
    "X_nano_scaled.head()"
   ]
  },
  {
   "cell_type": "code",
   "execution_count": 13,
   "metadata": {
    "collapsed": true
   },
   "outputs": [
    {
     "name": "stdout",
     "output_type": "stream",
     "text": [
      "1.0000466407033666 \t 1.0000466407033666 \t 1.315367303310208e-16 \t Calculated atomic coordinates u'\n",
      "1.0000466407033657 \t 1.0000466407033657 \t -2.3261766441707764e-16 \t Calculated atomic coordinates v'\n",
      "1.0000466407033661 \t 1.0000466407033661 \t -8.199557792166766e-17 \t Calculated atomic coordinates w'\n"
     ]
    }
   ],
   "source": [
    "for column in Y_nano_scaled.columns:\n",
    "    column = str(column)\n",
    "    print (np.sqrt(Y_nano_scaled[column].var()), '\\t', Y_nano_scaled[column].std(), \n",
    "               '\\t', Y_nano_scaled[column].mean(), '\\t', column)"
   ]
  },
  {
   "cell_type": "code",
   "execution_count": 31,
   "metadata": {},
   "outputs": [
    {
     "name": "stdout",
     "output_type": "stream",
     "text": [
      "1.000046640703461 \t 1.000046640703461 \t -1.08191497817319e-14 \t Chiral indice n\n",
      "1.000046640703418 \t 1.000046640703418 \t -9.230146313859664e-16 \t Chiral indice m\n",
      "1.000046640703369 \t 1.000046640703369 \t -1.3041832638866916e-16 \t Initial atomic coordinate u\n",
      "1.0000466407033657 \t 1.0000466407033657 \t -3.2265953736844165e-16 \t Initial atomic coordinate v\n",
      "1.00004664070337 \t 1.00004664070337 \t -4.3265663621713495e-17 \t Initial atomic coordinate w\n"
     ]
    }
   ],
   "source": [
    "for column in X_nano_scaled.columns:\n",
    "    column = str(column)\n",
    "    print (np.sqrt(X_nano_scaled[column].var()), '\\t', X_nano_scaled[column].std(), \n",
    "               '\\t', X_nano_scaled[column].mean(), '\\t', column)"
   ]
  },
  {
   "cell_type": "code",
   "execution_count": 14,
   "metadata": {
    "collapsed": true
   },
   "outputs": [
    {
     "data": {
      "text/html": [
       "<div>\n",
       "<style scoped>\n",
       "    .dataframe tbody tr th:only-of-type {\n",
       "        vertical-align: middle;\n",
       "    }\n",
       "\n",
       "    .dataframe tbody tr th {\n",
       "        vertical-align: top;\n",
       "    }\n",
       "\n",
       "    .dataframe thead th {\n",
       "        text-align: right;\n",
       "    }\n",
       "</style>\n",
       "<table border=\"1\" class=\"dataframe\">\n",
       "  <thead>\n",
       "    <tr style=\"text-align: right;\">\n",
       "      <th></th>\n",
       "      <th>Calculated atomic coordinates u'</th>\n",
       "      <th>Calculated atomic coordinates v'</th>\n",
       "      <th>Calculated atomic coordinates w'</th>\n",
       "    </tr>\n",
       "  </thead>\n",
       "  <tbody>\n",
       "    <tr>\n",
       "      <th>0</th>\n",
       "      <td>0.759569</td>\n",
       "      <td>0.790933</td>\n",
       "      <td>-1.670188</td>\n",
       "    </tr>\n",
       "    <tr>\n",
       "      <th>1</th>\n",
       "      <td>0.819293</td>\n",
       "      <td>0.538416</td>\n",
       "      <td>-0.925224</td>\n",
       "    </tr>\n",
       "    <tr>\n",
       "      <th>2</th>\n",
       "      <td>-0.076956</td>\n",
       "      <td>-0.813926</td>\n",
       "      <td>-1.422167</td>\n",
       "    </tr>\n",
       "    <tr>\n",
       "      <th>3</th>\n",
       "      <td>-0.313629</td>\n",
       "      <td>0.542357</td>\n",
       "      <td>-1.591379</td>\n",
       "    </tr>\n",
       "    <tr>\n",
       "      <th>4</th>\n",
       "      <td>-0.676180</td>\n",
       "      <td>0.201840</td>\n",
       "      <td>-1.184653</td>\n",
       "    </tr>\n",
       "    <tr>\n",
       "      <th>5</th>\n",
       "      <td>-0.010612</td>\n",
       "      <td>0.775042</td>\n",
       "      <td>-0.843582</td>\n",
       "    </tr>\n",
       "    <tr>\n",
       "      <th>6</th>\n",
       "      <td>-0.375312</td>\n",
       "      <td>0.541491</td>\n",
       "      <td>-0.432746</td>\n",
       "    </tr>\n",
       "    <tr>\n",
       "      <th>7</th>\n",
       "      <td>0.859311</td>\n",
       "      <td>0.211074</td>\n",
       "      <td>-1.331425</td>\n",
       "    </tr>\n",
       "    <tr>\n",
       "      <th>8</th>\n",
       "      <td>-0.751967</td>\n",
       "      <td>-0.820070</td>\n",
       "      <td>-1.096767</td>\n",
       "    </tr>\n",
       "    <tr>\n",
       "      <th>9</th>\n",
       "      <td>-0.512868</td>\n",
       "      <td>-0.916060</td>\n",
       "      <td>-0.683675</td>\n",
       "    </tr>\n",
       "    <tr>\n",
       "      <th>10</th>\n",
       "      <td>-0.931270</td>\n",
       "      <td>-0.588811</td>\n",
       "      <td>-0.350257</td>\n",
       "    </tr>\n",
       "    <tr>\n",
       "      <th>11</th>\n",
       "      <td>-0.760729</td>\n",
       "      <td>-0.791953</td>\n",
       "      <td>0.060524</td>\n",
       "    </tr>\n",
       "    <tr>\n",
       "      <th>12</th>\n",
       "      <td>0.389627</td>\n",
       "      <td>0.893260</td>\n",
       "      <td>-0.105097</td>\n",
       "    </tr>\n",
       "    <tr>\n",
       "      <th>13</th>\n",
       "      <td>0.075370</td>\n",
       "      <td>0.814160</td>\n",
       "      <td>0.308261</td>\n",
       "    </tr>\n",
       "    <tr>\n",
       "      <th>14</th>\n",
       "      <td>0.751910</td>\n",
       "      <td>0.819610</td>\n",
       "      <td>0.631679</td>\n",
       "    </tr>\n",
       "    <tr>\n",
       "      <th>15</th>\n",
       "      <td>0.512557</td>\n",
       "      <td>0.914882</td>\n",
       "      <td>1.045023</td>\n",
       "    </tr>\n",
       "    <tr>\n",
       "      <th>16</th>\n",
       "      <td>0.619840</td>\n",
       "      <td>-0.190757</td>\n",
       "      <td>-0.596136</td>\n",
       "    </tr>\n",
       "    <tr>\n",
       "      <th>17</th>\n",
       "      <td>0.815175</td>\n",
       "      <td>0.178640</td>\n",
       "      <td>-0.194813</td>\n",
       "    </tr>\n",
       "    <tr>\n",
       "      <th>18</th>\n",
       "      <td>0.313104</td>\n",
       "      <td>-0.542969</td>\n",
       "      <td>0.139540</td>\n",
       "    </tr>\n",
       "    <tr>\n",
       "      <th>19</th>\n",
       "      <td>0.677770</td>\n",
       "      <td>-0.201224</td>\n",
       "      <td>0.545478</td>\n",
       "    </tr>\n",
       "    <tr>\n",
       "      <th>20</th>\n",
       "      <td>-0.861034</td>\n",
       "      <td>-0.213111</td>\n",
       "      <td>0.398177</td>\n",
       "    </tr>\n",
       "    <tr>\n",
       "      <th>21</th>\n",
       "      <td>-0.815163</td>\n",
       "      <td>-0.538010</td>\n",
       "      <td>0.803855</td>\n",
       "    </tr>\n",
       "    <tr>\n",
       "      <th>22</th>\n",
       "      <td>-0.618763</td>\n",
       "      <td>0.191348</td>\n",
       "      <td>1.133486</td>\n",
       "    </tr>\n",
       "    <tr>\n",
       "      <th>23</th>\n",
       "      <td>-0.818126</td>\n",
       "      <td>-0.178358</td>\n",
       "      <td>1.534408</td>\n",
       "    </tr>\n",
       "    <tr>\n",
       "      <th>24</th>\n",
       "      <td>0.929656</td>\n",
       "      <td>0.586935</td>\n",
       "      <td>1.378697</td>\n",
       "    </tr>\n",
       "    <tr>\n",
       "      <th>25</th>\n",
       "      <td>0.012016</td>\n",
       "      <td>-0.775406</td>\n",
       "      <td>0.887143</td>\n",
       "    </tr>\n",
       "    <tr>\n",
       "      <th>26</th>\n",
       "      <td>0.374451</td>\n",
       "      <td>-0.542783</td>\n",
       "      <td>1.298094</td>\n",
       "    </tr>\n",
       "    <tr>\n",
       "      <th>27</th>\n",
       "      <td>-0.393227</td>\n",
       "      <td>-0.893479</td>\n",
       "      <td>1.623501</td>\n",
       "    </tr>\n",
       "    <tr>\n",
       "      <th>28</th>\n",
       "      <td>0.340490</td>\n",
       "      <td>0.958700</td>\n",
       "      <td>-1.526155</td>\n",
       "    </tr>\n",
       "    <tr>\n",
       "      <th>29</th>\n",
       "      <td>-0.955572</td>\n",
       "      <td>-0.293366</td>\n",
       "      <td>-1.656807</td>\n",
       "    </tr>\n",
       "    <tr>\n",
       "      <th>...</th>\n",
       "      <td>...</td>\n",
       "      <td>...</td>\n",
       "      <td>...</td>\n",
       "    </tr>\n",
       "    <tr>\n",
       "      <th>10691</th>\n",
       "      <td>0.602049</td>\n",
       "      <td>-0.958871</td>\n",
       "      <td>0.036548</td>\n",
       "    </tr>\n",
       "    <tr>\n",
       "      <th>10692</th>\n",
       "      <td>0.376933</td>\n",
       "      <td>-1.133639</td>\n",
       "      <td>0.366238</td>\n",
       "    </tr>\n",
       "    <tr>\n",
       "      <th>10693</th>\n",
       "      <td>0.489207</td>\n",
       "      <td>-1.049332</td>\n",
       "      <td>0.778406</td>\n",
       "    </tr>\n",
       "    <tr>\n",
       "      <th>10694</th>\n",
       "      <td>-0.208652</td>\n",
       "      <td>-1.457668</td>\n",
       "      <td>0.612774</td>\n",
       "    </tr>\n",
       "    <tr>\n",
       "      <th>10695</th>\n",
       "      <td>-0.091386</td>\n",
       "      <td>-1.406902</td>\n",
       "      <td>1.024773</td>\n",
       "    </tr>\n",
       "    <tr>\n",
       "      <th>10696</th>\n",
       "      <td>-0.325457</td>\n",
       "      <td>-1.501390</td>\n",
       "      <td>1.354898</td>\n",
       "    </tr>\n",
       "    <tr>\n",
       "      <th>10697</th>\n",
       "      <td>-0.869098</td>\n",
       "      <td>-1.581466</td>\n",
       "      <td>1.601030</td>\n",
       "    </tr>\n",
       "    <tr>\n",
       "      <th>10698</th>\n",
       "      <td>1.570520</td>\n",
       "      <td>0.604189</td>\n",
       "      <td>-1.116537</td>\n",
       "    </tr>\n",
       "    <tr>\n",
       "      <th>10699</th>\n",
       "      <td>1.580801</td>\n",
       "      <td>0.711241</td>\n",
       "      <td>-0.705036</td>\n",
       "    </tr>\n",
       "    <tr>\n",
       "      <th>10700</th>\n",
       "      <td>1.379661</td>\n",
       "      <td>0.028131</td>\n",
       "      <td>-0.869533</td>\n",
       "    </tr>\n",
       "    <tr>\n",
       "      <th>10701</th>\n",
       "      <td>1.430094</td>\n",
       "      <td>0.145132</td>\n",
       "      <td>-0.457735</td>\n",
       "    </tr>\n",
       "    <tr>\n",
       "      <th>10702</th>\n",
       "      <td>1.312660</td>\n",
       "      <td>-0.089859</td>\n",
       "      <td>-0.127645</td>\n",
       "    </tr>\n",
       "    <tr>\n",
       "      <th>10703</th>\n",
       "      <td>1.374127</td>\n",
       "      <td>0.027172</td>\n",
       "      <td>0.284012</td>\n",
       "    </tr>\n",
       "    <tr>\n",
       "      <th>10704</th>\n",
       "      <td>0.911256</td>\n",
       "      <td>-0.659358</td>\n",
       "      <td>0.119252</td>\n",
       "    </tr>\n",
       "    <tr>\n",
       "      <th>10705</th>\n",
       "      <td>1.006488</td>\n",
       "      <td>-0.551835</td>\n",
       "      <td>0.530769</td>\n",
       "    </tr>\n",
       "    <tr>\n",
       "      <th>10706</th>\n",
       "      <td>0.812937</td>\n",
       "      <td>-0.765647</td>\n",
       "      <td>0.860279</td>\n",
       "    </tr>\n",
       "    <tr>\n",
       "      <th>10707</th>\n",
       "      <td>0.912352</td>\n",
       "      <td>-0.659753</td>\n",
       "      <td>1.271804</td>\n",
       "    </tr>\n",
       "    <tr>\n",
       "      <th>10708</th>\n",
       "      <td>0.259829</td>\n",
       "      <td>-1.210491</td>\n",
       "      <td>1.107919</td>\n",
       "    </tr>\n",
       "    <tr>\n",
       "      <th>10709</th>\n",
       "      <td>0.376685</td>\n",
       "      <td>-1.132924</td>\n",
       "      <td>1.519603</td>\n",
       "    </tr>\n",
       "    <tr>\n",
       "      <th>10710</th>\n",
       "      <td>1.545066</td>\n",
       "      <td>0.490986</td>\n",
       "      <td>-0.375658</td>\n",
       "    </tr>\n",
       "    <tr>\n",
       "      <th>10711</th>\n",
       "      <td>1.564907</td>\n",
       "      <td>0.602165</td>\n",
       "      <td>0.035898</td>\n",
       "    </tr>\n",
       "    <tr>\n",
       "      <th>10712</th>\n",
       "      <td>1.514292</td>\n",
       "      <td>0.377380</td>\n",
       "      <td>0.366113</td>\n",
       "    </tr>\n",
       "    <tr>\n",
       "      <th>10713</th>\n",
       "      <td>1.545915</td>\n",
       "      <td>0.491876</td>\n",
       "      <td>0.777558</td>\n",
       "    </tr>\n",
       "    <tr>\n",
       "      <th>10714</th>\n",
       "      <td>1.246591</td>\n",
       "      <td>-0.207905</td>\n",
       "      <td>0.613213</td>\n",
       "    </tr>\n",
       "    <tr>\n",
       "      <th>10715</th>\n",
       "      <td>1.313471</td>\n",
       "      <td>-0.089935</td>\n",
       "      <td>1.024527</td>\n",
       "    </tr>\n",
       "    <tr>\n",
       "      <th>10716</th>\n",
       "      <td>1.174867</td>\n",
       "      <td>-0.323679</td>\n",
       "      <td>1.354369</td>\n",
       "    </tr>\n",
       "    <tr>\n",
       "      <th>10717</th>\n",
       "      <td>0.709782</td>\n",
       "      <td>-0.864802</td>\n",
       "      <td>1.601625</td>\n",
       "    </tr>\n",
       "    <tr>\n",
       "      <th>10718</th>\n",
       "      <td>1.475790</td>\n",
       "      <td>0.261899</td>\n",
       "      <td>1.107113</td>\n",
       "    </tr>\n",
       "    <tr>\n",
       "      <th>10719</th>\n",
       "      <td>1.518554</td>\n",
       "      <td>0.379851</td>\n",
       "      <td>1.518333</td>\n",
       "    </tr>\n",
       "    <tr>\n",
       "      <th>10720</th>\n",
       "      <td>1.585235</td>\n",
       "      <td>0.713887</td>\n",
       "      <td>1.600836</td>\n",
       "    </tr>\n",
       "  </tbody>\n",
       "</table>\n",
       "<p>10721 rows × 3 columns</p>\n",
       "</div>"
      ],
      "text/plain": [
       "       Calculated atomic coordinates u'  Calculated atomic coordinates v'  \\\n",
       "0                              0.759569                          0.790933   \n",
       "1                              0.819293                          0.538416   \n",
       "2                             -0.076956                         -0.813926   \n",
       "3                             -0.313629                          0.542357   \n",
       "4                             -0.676180                          0.201840   \n",
       "5                             -0.010612                          0.775042   \n",
       "6                             -0.375312                          0.541491   \n",
       "7                              0.859311                          0.211074   \n",
       "8                             -0.751967                         -0.820070   \n",
       "9                             -0.512868                         -0.916060   \n",
       "10                            -0.931270                         -0.588811   \n",
       "11                            -0.760729                         -0.791953   \n",
       "12                             0.389627                          0.893260   \n",
       "13                             0.075370                          0.814160   \n",
       "14                             0.751910                          0.819610   \n",
       "15                             0.512557                          0.914882   \n",
       "16                             0.619840                         -0.190757   \n",
       "17                             0.815175                          0.178640   \n",
       "18                             0.313104                         -0.542969   \n",
       "19                             0.677770                         -0.201224   \n",
       "20                            -0.861034                         -0.213111   \n",
       "21                            -0.815163                         -0.538010   \n",
       "22                            -0.618763                          0.191348   \n",
       "23                            -0.818126                         -0.178358   \n",
       "24                             0.929656                          0.586935   \n",
       "25                             0.012016                         -0.775406   \n",
       "26                             0.374451                         -0.542783   \n",
       "27                            -0.393227                         -0.893479   \n",
       "28                             0.340490                          0.958700   \n",
       "29                            -0.955572                         -0.293366   \n",
       "...                                 ...                               ...   \n",
       "10691                          0.602049                         -0.958871   \n",
       "10692                          0.376933                         -1.133639   \n",
       "10693                          0.489207                         -1.049332   \n",
       "10694                         -0.208652                         -1.457668   \n",
       "10695                         -0.091386                         -1.406902   \n",
       "10696                         -0.325457                         -1.501390   \n",
       "10697                         -0.869098                         -1.581466   \n",
       "10698                          1.570520                          0.604189   \n",
       "10699                          1.580801                          0.711241   \n",
       "10700                          1.379661                          0.028131   \n",
       "10701                          1.430094                          0.145132   \n",
       "10702                          1.312660                         -0.089859   \n",
       "10703                          1.374127                          0.027172   \n",
       "10704                          0.911256                         -0.659358   \n",
       "10705                          1.006488                         -0.551835   \n",
       "10706                          0.812937                         -0.765647   \n",
       "10707                          0.912352                         -0.659753   \n",
       "10708                          0.259829                         -1.210491   \n",
       "10709                          0.376685                         -1.132924   \n",
       "10710                          1.545066                          0.490986   \n",
       "10711                          1.564907                          0.602165   \n",
       "10712                          1.514292                          0.377380   \n",
       "10713                          1.545915                          0.491876   \n",
       "10714                          1.246591                         -0.207905   \n",
       "10715                          1.313471                         -0.089935   \n",
       "10716                          1.174867                         -0.323679   \n",
       "10717                          0.709782                         -0.864802   \n",
       "10718                          1.475790                          0.261899   \n",
       "10719                          1.518554                          0.379851   \n",
       "10720                          1.585235                          0.713887   \n",
       "\n",
       "       Calculated atomic coordinates w'  \n",
       "0                             -1.670188  \n",
       "1                             -0.925224  \n",
       "2                             -1.422167  \n",
       "3                             -1.591379  \n",
       "4                             -1.184653  \n",
       "5                             -0.843582  \n",
       "6                             -0.432746  \n",
       "7                             -1.331425  \n",
       "8                             -1.096767  \n",
       "9                             -0.683675  \n",
       "10                            -0.350257  \n",
       "11                             0.060524  \n",
       "12                            -0.105097  \n",
       "13                             0.308261  \n",
       "14                             0.631679  \n",
       "15                             1.045023  \n",
       "16                            -0.596136  \n",
       "17                            -0.194813  \n",
       "18                             0.139540  \n",
       "19                             0.545478  \n",
       "20                             0.398177  \n",
       "21                             0.803855  \n",
       "22                             1.133486  \n",
       "23                             1.534408  \n",
       "24                             1.378697  \n",
       "25                             0.887143  \n",
       "26                             1.298094  \n",
       "27                             1.623501  \n",
       "28                            -1.526155  \n",
       "29                            -1.656807  \n",
       "...                                 ...  \n",
       "10691                          0.036548  \n",
       "10692                          0.366238  \n",
       "10693                          0.778406  \n",
       "10694                          0.612774  \n",
       "10695                          1.024773  \n",
       "10696                          1.354898  \n",
       "10697                          1.601030  \n",
       "10698                         -1.116537  \n",
       "10699                         -0.705036  \n",
       "10700                         -0.869533  \n",
       "10701                         -0.457735  \n",
       "10702                         -0.127645  \n",
       "10703                          0.284012  \n",
       "10704                          0.119252  \n",
       "10705                          0.530769  \n",
       "10706                          0.860279  \n",
       "10707                          1.271804  \n",
       "10708                          1.107919  \n",
       "10709                          1.519603  \n",
       "10710                         -0.375658  \n",
       "10711                          0.035898  \n",
       "10712                          0.366113  \n",
       "10713                          0.777558  \n",
       "10714                          0.613213  \n",
       "10715                          1.024527  \n",
       "10716                          1.354369  \n",
       "10717                          1.601625  \n",
       "10718                          1.107113  \n",
       "10719                          1.518333  \n",
       "10720                          1.600836  \n",
       "\n",
       "[10721 rows x 3 columns]"
      ]
     },
     "execution_count": 14,
     "metadata": {},
     "output_type": "execute_result"
    }
   ],
   "source": [
    "Y_nano_scaled"
   ]
  },
  {
   "cell_type": "markdown",
   "metadata": {},
   "source": [
    "#### Do our target one-dimension "
   ]
  },
  {
   "cell_type": "code",
   "execution_count": 41,
   "metadata": {},
   "outputs": [
    {
     "name": "stdout",
     "output_type": "stream",
     "text": [
      "input array: (10721, 3)\n",
      "output array: (10721, 1)\n"
     ]
    }
   ],
   "source": [
    "from sklearn.decomposition import PCA\n",
    "Y_nano_scaled_PCA = Y_nano_scaled.loc[ : , :]\n",
    "pca = PCA(n_components=1)\n",
    "pca. fit(Y_nano_scaled_PCA) \n",
    "data_pca = pca. transform(Y_nano_scaled_PCA)\n",
    "print(\"input array: {}\" . format(str(Y_nano_scaled_PCA. shape)))\n",
    "print(\"output array: {}\" . format(str(data_pca. shape)))"
   ]
  },
  {
   "cell_type": "code",
   "execution_count": 32,
   "metadata": {},
   "outputs": [],
   "source": [
    "Y_nano = pd.DataFrame(data_pca)"
   ]
  },
  {
   "cell_type": "markdown",
   "metadata": {},
   "source": [
    "#### Separate our date to test and train"
   ]
  },
  {
   "cell_type": "code",
   "execution_count": 33,
   "metadata": {},
   "outputs": [],
   "source": [
    "X_nano_train, X_nano_test,Y_nano_train, Y_nano_test= train_test_split(X_nano, Y_nano, test_size=0.3)"
   ]
  },
  {
   "cell_type": "code",
   "execution_count": 19,
   "metadata": {
    "collapsed": true
   },
   "outputs": [
    {
     "data": {
      "text/html": [
       "<div>\n",
       "<style scoped>\n",
       "    .dataframe tbody tr th:only-of-type {\n",
       "        vertical-align: middle;\n",
       "    }\n",
       "\n",
       "    .dataframe tbody tr th {\n",
       "        vertical-align: top;\n",
       "    }\n",
       "\n",
       "    .dataframe thead th {\n",
       "        text-align: right;\n",
       "    }\n",
       "</style>\n",
       "<table border=\"1\" class=\"dataframe\">\n",
       "  <thead>\n",
       "    <tr style=\"text-align: right;\">\n",
       "      <th></th>\n",
       "      <th>0</th>\n",
       "    </tr>\n",
       "  </thead>\n",
       "  <tbody>\n",
       "    <tr>\n",
       "      <th>count</th>\n",
       "      <td>3217.000000</td>\n",
       "    </tr>\n",
       "    <tr>\n",
       "      <th>mean</th>\n",
       "      <td>-0.000691</td>\n",
       "    </tr>\n",
       "    <tr>\n",
       "      <th>std</th>\n",
       "      <td>1.215004</td>\n",
       "    </tr>\n",
       "    <tr>\n",
       "      <th>min</th>\n",
       "      <td>-1.918702</td>\n",
       "    </tr>\n",
       "    <tr>\n",
       "      <th>25%</th>\n",
       "      <td>-1.178540</td>\n",
       "    </tr>\n",
       "    <tr>\n",
       "      <th>50%</th>\n",
       "      <td>0.005153</td>\n",
       "    </tr>\n",
       "    <tr>\n",
       "      <th>75%</th>\n",
       "      <td>1.172867</td>\n",
       "    </tr>\n",
       "    <tr>\n",
       "      <th>max</th>\n",
       "      <td>1.927147</td>\n",
       "    </tr>\n",
       "  </tbody>\n",
       "</table>\n",
       "</div>"
      ],
      "text/plain": [
       "                 0\n",
       "count  3217.000000\n",
       "mean     -0.000691\n",
       "std       1.215004\n",
       "min      -1.918702\n",
       "25%      -1.178540\n",
       "50%       0.005153\n",
       "75%       1.172867\n",
       "max       1.927147"
      ]
     },
     "execution_count": 19,
     "metadata": {},
     "output_type": "execute_result"
    }
   ],
   "source": [
    "Y_nano_test.describe()"
   ]
  },
  {
   "cell_type": "markdown",
   "metadata": {},
   "source": [
    "#### import neupy"
   ]
  },
  {
   "cell_type": "code",
   "execution_count": 21,
   "metadata": {},
   "outputs": [
    {
     "name": "stderr",
     "output_type": "stream",
     "text": [
      "WARNING (theano.configdefaults): g++ not available, if using conda: `conda install m2w64-toolchain`\n",
      "C:\\Users\\laureate2033\\Anaconda3\\lib\\site-packages\\theano\\configdefaults.py:560: UserWarning: DeprecationWarning: there is no c++ compiler.This is deprecated and with Theano 0.11 a c++ compiler will be mandatory\n",
      "  warnings.warn(\"DeprecationWarning: there is no c++ compiler.\"\n",
      "WARNING (theano.configdefaults): g++ not detected ! Theano will be unable to execute optimized C-implementations (for both CPU and GPU) and will default to Python implementations. Performance will be severely degraded. To remove this warning, set Theano flags cxx to an empty string.\n",
      "WARNING (theano.tensor.blas): Using NumPy C-API based implementation for BLAS functions.\n"
     ]
    }
   ],
   "source": [
    "from numpy import dot\n",
    "from sklearn import datasets, preprocessing\n",
    "from sklearn.model_selection import train_test_split\n",
    "from neupy import algorithms, estimators, environment"
   ]
  },
  {
   "cell_type": "markdown",
   "metadata": {},
   "source": [
    "#### Use GRNN to train and predict target"
   ]
  },
  {
   "cell_type": "code",
   "execution_count": 44,
   "metadata": {},
   "outputs": [
    {
     "name": "stdout",
     "output_type": "stream",
     "text": [
      "The error is 0.08860464268593507\n"
     ]
    }
   ],
   "source": [
    "nw = algorithms.GRNN(std=0.1, verbose=False)\n",
    "nw.train(X_nano_train, Y_nano_train)\n",
    "\n",
    "y_predicted = nw.predict(X_nano_test)\n",
    "error=estimators.rmse(y_predicted, Y_nano_test)\n",
    "print('The error is', error)"
   ]
  },
  {
   "cell_type": "markdown",
   "metadata": {},
   "source": [
    "#### we tried to use another method of neural network, for example, FFNN, FITNET, CFNN, unfortunately, we had some problems with using it to solve the task with carbon nanotubes\n"
   ]
  },
  {
   "cell_type": "markdown",
   "metadata": {},
   "source": [
    "#### GRNN model is proposed to predict the atomic coordinates of carbon nanotubes. The predicted atomic coordinates can be used instead of simulated ones, or they can be the initial values of the simulation. The use of neural network ensures that the exact results of atomic coordinates can be obtained in a short time."
   ]
  }
 ],
 "metadata": {
  "anaconda-cloud": {},
  "celltoolbar": "Slideshow",
  "kernelspec": {
   "display_name": "Python 3 (ipykernel)",
   "language": "python",
   "name": "python3"
  },
  "language_info": {
   "codemirror_mode": {
    "name": "ipython",
    "version": 3
   },
   "file_extension": ".py",
   "mimetype": "text/x-python",
   "name": "python",
   "nbconvert_exporter": "python",
   "pygments_lexer": "ipython3",
   "version": "3.9.7"
  }
 },
 "nbformat": 4,
 "nbformat_minor": 1
}
