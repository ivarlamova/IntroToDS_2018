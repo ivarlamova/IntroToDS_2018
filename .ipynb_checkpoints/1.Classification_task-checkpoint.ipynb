{
 "cells": [
  {
   "cell_type": "markdown",
   "metadata": {
    "collapsed": true
   },
   "source": [
    "# 1 Load train and test data using pandas or numpy"
   ]
  },
  {
   "cell_type": "markdown",
   "metadata": {},
   "source": [
    "#### 1. Import required Python libraries"
   ]
  },
  {
   "cell_type": "code",
   "execution_count": 1,
   "metadata": {
    "collapsed": true
   },
   "outputs": [],
   "source": [
    "import numpy as np\n",
    "import pandas as pd\n",
    "import seaborn as sns\n",
    "sns.set()\n",
    "from matplotlib import pyplot as plt\n",
    "%matplotlib inline"
   ]
  },
  {
   "cell_type": "markdown",
   "metadata": {},
   "source": [
    "#### 2. Read dataframes(train data)"
   ]
  },
  {
   "cell_type": "code",
   "execution_count": 2,
   "metadata": {
    "scrolled": true
   },
   "outputs": [
    {
     "data": {
      "text/html": [
       "<div>\n",
       "<style>\n",
       "    .dataframe thead tr:only-child th {\n",
       "        text-align: right;\n",
       "    }\n",
       "\n",
       "    .dataframe thead th {\n",
       "        text-align: left;\n",
       "    }\n",
       "\n",
       "    .dataframe tbody tr th {\n",
       "        vertical-align: top;\n",
       "    }\n",
       "</style>\n",
       "<table border=\"1\" class=\"dataframe\">\n",
       "  <thead>\n",
       "    <tr style=\"text-align: right;\">\n",
       "      <th></th>\n",
       "      <th>Target</th>\n",
       "      <th>Time-0</th>\n",
       "      <th>Time-1</th>\n",
       "      <th>Time-2</th>\n",
       "      <th>Time-3</th>\n",
       "      <th>Time-4</th>\n",
       "      <th>Time-5</th>\n",
       "      <th>Time-6</th>\n",
       "      <th>Time-7</th>\n",
       "      <th>Time-8</th>\n",
       "      <th>...</th>\n",
       "      <th>Time-490</th>\n",
       "      <th>Time-491</th>\n",
       "      <th>Time-492</th>\n",
       "      <th>Time-493</th>\n",
       "      <th>Time-494</th>\n",
       "      <th>Time-495</th>\n",
       "      <th>Time-496</th>\n",
       "      <th>Time-497</th>\n",
       "      <th>Time-498</th>\n",
       "      <th>Time-499</th>\n",
       "    </tr>\n",
       "  </thead>\n",
       "  <tbody>\n",
       "    <tr>\n",
       "      <th>0</th>\n",
       "      <td>-1</td>\n",
       "      <td>-0.14040</td>\n",
       "      <td>0.17164</td>\n",
       "      <td>0.30204</td>\n",
       "      <td>0.23280</td>\n",
       "      <td>0.033853</td>\n",
       "      <td>-0.22418</td>\n",
       "      <td>-0.46999</td>\n",
       "      <td>-0.645400</td>\n",
       "      <td>-0.61770</td>\n",
       "      <td>...</td>\n",
       "      <td>-0.31997</td>\n",
       "      <td>0.39090</td>\n",
       "      <td>0.97483</td>\n",
       "      <td>1.258700</td>\n",
       "      <td>1.14330</td>\n",
       "      <td>0.64709</td>\n",
       "      <td>-0.049582</td>\n",
       "      <td>-0.690400</td>\n",
       "      <td>-0.97660</td>\n",
       "      <td>-0.79426</td>\n",
       "    </tr>\n",
       "    <tr>\n",
       "      <th>1</th>\n",
       "      <td>-1</td>\n",
       "      <td>0.33404</td>\n",
       "      <td>0.32225</td>\n",
       "      <td>0.45384</td>\n",
       "      <td>0.67185</td>\n",
       "      <td>0.887900</td>\n",
       "      <td>1.02050</td>\n",
       "      <td>1.05980</td>\n",
       "      <td>1.030300</td>\n",
       "      <td>0.95075</td>\n",
       "      <td>...</td>\n",
       "      <td>0.43519</td>\n",
       "      <td>-0.34650</td>\n",
       "      <td>-0.92491</td>\n",
       "      <td>-1.208700</td>\n",
       "      <td>-1.24800</td>\n",
       "      <td>-1.14000</td>\n",
       "      <td>-1.041800</td>\n",
       "      <td>-1.041800</td>\n",
       "      <td>-1.15960</td>\n",
       "      <td>-1.37570</td>\n",
       "    </tr>\n",
       "    <tr>\n",
       "      <th>2</th>\n",
       "      <td>-1</td>\n",
       "      <td>0.71669</td>\n",
       "      <td>0.74437</td>\n",
       "      <td>0.72591</td>\n",
       "      <td>0.66133</td>\n",
       "      <td>0.555220</td>\n",
       "      <td>0.41359</td>\n",
       "      <td>0.24658</td>\n",
       "      <td>0.065273</td>\n",
       "      <td>-0.12111</td>\n",
       "      <td>...</td>\n",
       "      <td>3.17100</td>\n",
       "      <td>2.27600</td>\n",
       "      <td>1.21950</td>\n",
       "      <td>0.081881</td>\n",
       "      <td>-1.05030</td>\n",
       "      <td>-2.09290</td>\n",
       "      <td>-2.983300</td>\n",
       "      <td>-3.675300</td>\n",
       "      <td>-4.13660</td>\n",
       "      <td>-4.33960</td>\n",
       "    </tr>\n",
       "    <tr>\n",
       "      <th>3</th>\n",
       "      <td>1</td>\n",
       "      <td>1.24030</td>\n",
       "      <td>1.33120</td>\n",
       "      <td>1.38660</td>\n",
       "      <td>1.38320</td>\n",
       "      <td>1.306000</td>\n",
       "      <td>1.14280</td>\n",
       "      <td>0.87861</td>\n",
       "      <td>0.532290</td>\n",
       "      <td>0.14002</td>\n",
       "      <td>...</td>\n",
       "      <td>-0.82026</td>\n",
       "      <td>-1.12460</td>\n",
       "      <td>-1.30200</td>\n",
       "      <td>-1.340600</td>\n",
       "      <td>-1.27140</td>\n",
       "      <td>-1.14640</td>\n",
       "      <td>-1.011300</td>\n",
       "      <td>-0.931220</td>\n",
       "      <td>-0.93450</td>\n",
       "      <td>-1.00130</td>\n",
       "    </tr>\n",
       "    <tr>\n",
       "      <th>4</th>\n",
       "      <td>-1</td>\n",
       "      <td>-1.15950</td>\n",
       "      <td>-1.20420</td>\n",
       "      <td>-1.16760</td>\n",
       "      <td>-1.03350</td>\n",
       "      <td>-0.818170</td>\n",
       "      <td>-0.55812</td>\n",
       "      <td>-0.29929</td>\n",
       "      <td>-0.093691</td>\n",
       "      <td>0.02277</td>\n",
       "      <td>...</td>\n",
       "      <td>0.66085</td>\n",
       "      <td>0.44144</td>\n",
       "      <td>0.20618</td>\n",
       "      <td>-0.006941</td>\n",
       "      <td>-0.14692</td>\n",
       "      <td>-0.18308</td>\n",
       "      <td>-0.112380</td>\n",
       "      <td>0.008987</td>\n",
       "      <td>0.13141</td>\n",
       "      <td>0.18627</td>\n",
       "    </tr>\n",
       "  </tbody>\n",
       "</table>\n",
       "<p>5 rows × 501 columns</p>\n",
       "</div>"
      ],
      "text/plain": [
       "   Target   Time-0   Time-1   Time-2   Time-3    Time-4   Time-5   Time-6  \\\n",
       "0      -1 -0.14040  0.17164  0.30204  0.23280  0.033853 -0.22418 -0.46999   \n",
       "1      -1  0.33404  0.32225  0.45384  0.67185  0.887900  1.02050  1.05980   \n",
       "2      -1  0.71669  0.74437  0.72591  0.66133  0.555220  0.41359  0.24658   \n",
       "3       1  1.24030  1.33120  1.38660  1.38320  1.306000  1.14280  0.87861   \n",
       "4      -1 -1.15950 -1.20420 -1.16760 -1.03350 -0.818170 -0.55812 -0.29929   \n",
       "\n",
       "     Time-7   Time-8    ...     Time-490  Time-491  Time-492  Time-493  \\\n",
       "0 -0.645400 -0.61770    ...     -0.31997   0.39090   0.97483  1.258700   \n",
       "1  1.030300  0.95075    ...      0.43519  -0.34650  -0.92491 -1.208700   \n",
       "2  0.065273 -0.12111    ...      3.17100   2.27600   1.21950  0.081881   \n",
       "3  0.532290  0.14002    ...     -0.82026  -1.12460  -1.30200 -1.340600   \n",
       "4 -0.093691  0.02277    ...      0.66085   0.44144   0.20618 -0.006941   \n",
       "\n",
       "   Time-494  Time-495  Time-496  Time-497  Time-498  Time-499  \n",
       "0   1.14330   0.64709 -0.049582 -0.690400  -0.97660  -0.79426  \n",
       "1  -1.24800  -1.14000 -1.041800 -1.041800  -1.15960  -1.37570  \n",
       "2  -1.05030  -2.09290 -2.983300 -3.675300  -4.13660  -4.33960  \n",
       "3  -1.27140  -1.14640 -1.011300 -0.931220  -0.93450  -1.00130  \n",
       "4  -0.14692  -0.18308 -0.112380  0.008987   0.13141   0.18627  \n",
       "\n",
       "[5 rows x 501 columns]"
      ]
     },
     "execution_count": 2,
     "metadata": {},
     "output_type": "execute_result"
    }
   ],
   "source": [
    "train_data = pd.read_csv('C:/Users/Admin/Desktop/Skoltech/DS/HW1/hw1_train.csv')\n",
    "train_data.head()"
   ]
  },
  {
   "cell_type": "markdown",
   "metadata": {},
   "source": [
    "#### 3. Read dataframes(test data)"
   ]
  },
  {
   "cell_type": "code",
   "execution_count": 3,
   "metadata": {},
   "outputs": [
    {
     "data": {
      "text/html": [
       "<div>\n",
       "<style>\n",
       "    .dataframe thead tr:only-child th {\n",
       "        text-align: right;\n",
       "    }\n",
       "\n",
       "    .dataframe thead th {\n",
       "        text-align: left;\n",
       "    }\n",
       "\n",
       "    .dataframe tbody tr th {\n",
       "        vertical-align: top;\n",
       "    }\n",
       "</style>\n",
       "<table border=\"1\" class=\"dataframe\">\n",
       "  <thead>\n",
       "    <tr style=\"text-align: right;\">\n",
       "      <th></th>\n",
       "      <th>Target</th>\n",
       "      <th>Time-0</th>\n",
       "      <th>Time-1</th>\n",
       "      <th>Time-2</th>\n",
       "      <th>Time-3</th>\n",
       "      <th>Time-4</th>\n",
       "      <th>Time-5</th>\n",
       "      <th>Time-6</th>\n",
       "      <th>Time-7</th>\n",
       "      <th>Time-8</th>\n",
       "      <th>...</th>\n",
       "      <th>Time-490</th>\n",
       "      <th>Time-491</th>\n",
       "      <th>Time-492</th>\n",
       "      <th>Time-493</th>\n",
       "      <th>Time-494</th>\n",
       "      <th>Time-495</th>\n",
       "      <th>Time-496</th>\n",
       "      <th>Time-497</th>\n",
       "      <th>Time-498</th>\n",
       "      <th>Time-499</th>\n",
       "    </tr>\n",
       "  </thead>\n",
       "  <tbody>\n",
       "    <tr>\n",
       "      <th>0</th>\n",
       "      <td>-1</td>\n",
       "      <td>-0.79717</td>\n",
       "      <td>-0.664390</td>\n",
       "      <td>-0.37301</td>\n",
       "      <td>0.040815</td>\n",
       "      <td>0.52694</td>\n",
       "      <td>0.98429</td>\n",
       "      <td>1.3531</td>\n",
       "      <td>1.5781</td>\n",
       "      <td>1.6593</td>\n",
       "      <td>...</td>\n",
       "      <td>1.12080</td>\n",
       "      <td>0.722420</td>\n",
       "      <td>0.36207</td>\n",
       "      <td>0.092083</td>\n",
       "      <td>-0.081268</td>\n",
       "      <td>-0.21257</td>\n",
       "      <td>-0.39146</td>\n",
       "      <td>-0.66439</td>\n",
       "      <td>-1.073800</td>\n",
       "      <td>-1.56430</td>\n",
       "    </tr>\n",
       "    <tr>\n",
       "      <th>1</th>\n",
       "      <td>1</td>\n",
       "      <td>0.80485</td>\n",
       "      <td>0.634630</td>\n",
       "      <td>0.37347</td>\n",
       "      <td>0.038343</td>\n",
       "      <td>-0.34099</td>\n",
       "      <td>-0.74086</td>\n",
       "      <td>-1.1097</td>\n",
       "      <td>-1.3954</td>\n",
       "      <td>-1.5702</td>\n",
       "      <td>...</td>\n",
       "      <td>0.38640</td>\n",
       "      <td>0.049213</td>\n",
       "      <td>-0.25814</td>\n",
       "      <td>-0.510580</td>\n",
       "      <td>-0.683650</td>\n",
       "      <td>-0.77382</td>\n",
       "      <td>-0.78525</td>\n",
       "      <td>-0.71489</td>\n",
       "      <td>-0.560440</td>\n",
       "      <td>-0.31909</td>\n",
       "    </tr>\n",
       "    <tr>\n",
       "      <th>2</th>\n",
       "      <td>-1</td>\n",
       "      <td>0.72799</td>\n",
       "      <td>0.111280</td>\n",
       "      <td>-0.49912</td>\n",
       "      <td>-1.068600</td>\n",
       "      <td>-1.57840</td>\n",
       "      <td>-1.99050</td>\n",
       "      <td>-2.3020</td>\n",
       "      <td>-2.5034</td>\n",
       "      <td>-2.5852</td>\n",
       "      <td>...</td>\n",
       "      <td>0.39446</td>\n",
       "      <td>0.463680</td>\n",
       "      <td>0.50773</td>\n",
       "      <td>0.517170</td>\n",
       "      <td>0.504590</td>\n",
       "      <td>0.47627</td>\n",
       "      <td>0.43851</td>\n",
       "      <td>0.39446</td>\n",
       "      <td>0.339400</td>\n",
       "      <td>0.25539</td>\n",
       "    </tr>\n",
       "    <tr>\n",
       "      <th>3</th>\n",
       "      <td>-1</td>\n",
       "      <td>-0.23444</td>\n",
       "      <td>-0.502160</td>\n",
       "      <td>-0.73249</td>\n",
       "      <td>-0.946130</td>\n",
       "      <td>-1.13970</td>\n",
       "      <td>-1.32330</td>\n",
       "      <td>-1.4902</td>\n",
       "      <td>-1.6071</td>\n",
       "      <td>-1.6204</td>\n",
       "      <td>...</td>\n",
       "      <td>-0.95280</td>\n",
       "      <td>-0.929440</td>\n",
       "      <td>-0.92276</td>\n",
       "      <td>-0.929440</td>\n",
       "      <td>-0.909410</td>\n",
       "      <td>-0.83597</td>\n",
       "      <td>-0.69577</td>\n",
       "      <td>-0.47879</td>\n",
       "      <td>-0.188710</td>\n",
       "      <td>0.11974</td>\n",
       "    </tr>\n",
       "    <tr>\n",
       "      <th>4</th>\n",
       "      <td>-1</td>\n",
       "      <td>-0.17133</td>\n",
       "      <td>-0.062285</td>\n",
       "      <td>0.23583</td>\n",
       "      <td>0.710400</td>\n",
       "      <td>1.24000</td>\n",
       "      <td>1.64980</td>\n",
       "      <td>1.8763</td>\n",
       "      <td>1.8655</td>\n",
       "      <td>1.7038</td>\n",
       "      <td>...</td>\n",
       "      <td>0.77619</td>\n",
       "      <td>0.725500</td>\n",
       "      <td>0.69745</td>\n",
       "      <td>0.731970</td>\n",
       "      <td>0.808540</td>\n",
       "      <td>0.83982</td>\n",
       "      <td>0.73305</td>\n",
       "      <td>0.43752</td>\n",
       "      <td>-0.026585</td>\n",
       "      <td>-0.60221</td>\n",
       "    </tr>\n",
       "  </tbody>\n",
       "</table>\n",
       "<p>5 rows × 501 columns</p>\n",
       "</div>"
      ],
      "text/plain": [
       "   Target   Time-0    Time-1   Time-2    Time-3   Time-4   Time-5  Time-6  \\\n",
       "0      -1 -0.79717 -0.664390 -0.37301  0.040815  0.52694  0.98429  1.3531   \n",
       "1       1  0.80485  0.634630  0.37347  0.038343 -0.34099 -0.74086 -1.1097   \n",
       "2      -1  0.72799  0.111280 -0.49912 -1.068600 -1.57840 -1.99050 -2.3020   \n",
       "3      -1 -0.23444 -0.502160 -0.73249 -0.946130 -1.13970 -1.32330 -1.4902   \n",
       "4      -1 -0.17133 -0.062285  0.23583  0.710400  1.24000  1.64980  1.8763   \n",
       "\n",
       "   Time-7  Time-8    ...     Time-490  Time-491  Time-492  Time-493  Time-494  \\\n",
       "0  1.5781  1.6593    ...      1.12080  0.722420   0.36207  0.092083 -0.081268   \n",
       "1 -1.3954 -1.5702    ...      0.38640  0.049213  -0.25814 -0.510580 -0.683650   \n",
       "2 -2.5034 -2.5852    ...      0.39446  0.463680   0.50773  0.517170  0.504590   \n",
       "3 -1.6071 -1.6204    ...     -0.95280 -0.929440  -0.92276 -0.929440 -0.909410   \n",
       "4  1.8655  1.7038    ...      0.77619  0.725500   0.69745  0.731970  0.808540   \n",
       "\n",
       "   Time-495  Time-496  Time-497  Time-498  Time-499  \n",
       "0  -0.21257  -0.39146  -0.66439 -1.073800  -1.56430  \n",
       "1  -0.77382  -0.78525  -0.71489 -0.560440  -0.31909  \n",
       "2   0.47627   0.43851   0.39446  0.339400   0.25539  \n",
       "3  -0.83597  -0.69577  -0.47879 -0.188710   0.11974  \n",
       "4   0.83982   0.73305   0.43752 -0.026585  -0.60221  \n",
       "\n",
       "[5 rows x 501 columns]"
      ]
     },
     "execution_count": 3,
     "metadata": {},
     "output_type": "execute_result"
    }
   ],
   "source": [
    "test_data = pd.read_csv('C:/Users/Admin/Desktop/Skoltech/DS/HW1/hw1_test.csv')\n",
    "test_data.head()"
   ]
  },
  {
   "cell_type": "markdown",
   "metadata": {},
   "source": [
    "#### 4. Keep some info about train dataset (for +1 and -1 class)"
   ]
  },
  {
   "cell_type": "code",
   "execution_count": 4,
   "metadata": {
    "scrolled": true
   },
   "outputs": [
    {
     "name": "stdout",
     "output_type": "stream",
     "text": [
      "<class 'pandas.core.frame.DataFrame'>\n",
      "Int64Index: 681 entries, 0 to 1315\n",
      "Columns: 501 entries, Target to Time-499\n",
      "dtypes: float64(500), int64(1)\n",
      "memory usage: 2.6 MB\n",
      "<class 'pandas.core.frame.DataFrame'>\n",
      "Int64Index: 639 entries, 3 to 1319\n",
      "Columns: 501 entries, Target to Time-499\n",
      "dtypes: float64(500), int64(1)\n",
      "memory usage: 2.4 MB\n"
     ]
    }
   ],
   "source": [
    "#check some info\n",
    "train_data[train_data.Target == -1].info()  \n",
    "train_data[train_data.Target == 1].info()"
   ]
  },
  {
   "cell_type": "markdown",
   "metadata": {},
   "source": [
    "#### 5. Separation of train dataframe into two classes (train_darta_1 for +1 and train_data_1_neg for -1) "
   ]
  },
  {
   "cell_type": "code",
   "execution_count": 5,
   "metadata": {},
   "outputs": [
    {
     "data": {
      "text/html": [
       "<div>\n",
       "<style>\n",
       "    .dataframe thead tr:only-child th {\n",
       "        text-align: right;\n",
       "    }\n",
       "\n",
       "    .dataframe thead th {\n",
       "        text-align: left;\n",
       "    }\n",
       "\n",
       "    .dataframe tbody tr th {\n",
       "        vertical-align: top;\n",
       "    }\n",
       "</style>\n",
       "<table border=\"1\" class=\"dataframe\">\n",
       "  <thead>\n",
       "    <tr style=\"text-align: right;\">\n",
       "      <th></th>\n",
       "      <th>Time-0</th>\n",
       "      <th>Time-1</th>\n",
       "      <th>Time-2</th>\n",
       "      <th>Time-3</th>\n",
       "      <th>Time-4</th>\n",
       "      <th>Time-5</th>\n",
       "      <th>Time-6</th>\n",
       "      <th>Time-7</th>\n",
       "      <th>Time-8</th>\n",
       "      <th>Time-9</th>\n",
       "      <th>...</th>\n",
       "      <th>Time-490</th>\n",
       "      <th>Time-491</th>\n",
       "      <th>Time-492</th>\n",
       "      <th>Time-493</th>\n",
       "      <th>Time-494</th>\n",
       "      <th>Time-495</th>\n",
       "      <th>Time-496</th>\n",
       "      <th>Time-497</th>\n",
       "      <th>Time-498</th>\n",
       "      <th>Time-499</th>\n",
       "    </tr>\n",
       "  </thead>\n",
       "  <tbody>\n",
       "    <tr>\n",
       "      <th>3</th>\n",
       "      <td>1.240300</td>\n",
       "      <td>1.33120</td>\n",
       "      <td>1.386600</td>\n",
       "      <td>1.38320</td>\n",
       "      <td>1.30600</td>\n",
       "      <td>1.14280</td>\n",
       "      <td>0.87861</td>\n",
       "      <td>0.53229</td>\n",
       "      <td>0.14002</td>\n",
       "      <td>-0.258260</td>\n",
       "      <td>...</td>\n",
       "      <td>-0.82026</td>\n",
       "      <td>-1.124600</td>\n",
       "      <td>-1.30200</td>\n",
       "      <td>-1.34060</td>\n",
       "      <td>-1.27140</td>\n",
       "      <td>-1.14640</td>\n",
       "      <td>-1.01130</td>\n",
       "      <td>-0.93122</td>\n",
       "      <td>-0.93450</td>\n",
       "      <td>-1.00130</td>\n",
       "    </tr>\n",
       "    <tr>\n",
       "      <th>5</th>\n",
       "      <td>0.659020</td>\n",
       "      <td>0.32579</td>\n",
       "      <td>0.019658</td>\n",
       "      <td>-0.22144</td>\n",
       "      <td>-0.39331</td>\n",
       "      <td>-0.51609</td>\n",
       "      <td>-0.60286</td>\n",
       "      <td>-0.66132</td>\n",
       "      <td>-0.70627</td>\n",
       "      <td>-0.731020</td>\n",
       "      <td>...</td>\n",
       "      <td>0.24442</td>\n",
       "      <td>0.045383</td>\n",
       "      <td>-0.16730</td>\n",
       "      <td>-0.38287</td>\n",
       "      <td>-0.59915</td>\n",
       "      <td>-0.78611</td>\n",
       "      <td>-0.91357</td>\n",
       "      <td>-0.93232</td>\n",
       "      <td>-0.81169</td>\n",
       "      <td>-0.55159</td>\n",
       "    </tr>\n",
       "    <tr>\n",
       "      <th>8</th>\n",
       "      <td>-1.064300</td>\n",
       "      <td>-1.10270</td>\n",
       "      <td>-1.095800</td>\n",
       "      <td>-1.05370</td>\n",
       "      <td>-0.96171</td>\n",
       "      <td>-0.80527</td>\n",
       "      <td>-0.55537</td>\n",
       "      <td>-0.20358</td>\n",
       "      <td>0.20456</td>\n",
       "      <td>0.607480</td>\n",
       "      <td>...</td>\n",
       "      <td>-0.87814</td>\n",
       "      <td>-1.131700</td>\n",
       "      <td>-1.25970</td>\n",
       "      <td>-1.25340</td>\n",
       "      <td>-1.11580</td>\n",
       "      <td>-0.87028</td>\n",
       "      <td>-0.55820</td>\n",
       "      <td>-0.23237</td>\n",
       "      <td>0.06438</td>\n",
       "      <td>0.31117</td>\n",
       "    </tr>\n",
       "    <tr>\n",
       "      <th>9</th>\n",
       "      <td>-1.196700</td>\n",
       "      <td>-0.93059</td>\n",
       "      <td>-0.608550</td>\n",
       "      <td>-0.23722</td>\n",
       "      <td>0.17714</td>\n",
       "      <td>0.61496</td>\n",
       "      <td>1.04970</td>\n",
       "      <td>1.44420</td>\n",
       "      <td>1.76180</td>\n",
       "      <td>1.968200</td>\n",
       "      <td>...</td>\n",
       "      <td>-0.11264</td>\n",
       "      <td>0.162020</td>\n",
       "      <td>0.42344</td>\n",
       "      <td>0.65631</td>\n",
       "      <td>0.85193</td>\n",
       "      <td>1.01120</td>\n",
       "      <td>1.12880</td>\n",
       "      <td>1.19010</td>\n",
       "      <td>1.17520</td>\n",
       "      <td>1.06690</td>\n",
       "    </tr>\n",
       "    <tr>\n",
       "      <th>11</th>\n",
       "      <td>-0.033265</td>\n",
       "      <td>0.25006</td>\n",
       "      <td>0.514420</td>\n",
       "      <td>0.71697</td>\n",
       "      <td>0.82385</td>\n",
       "      <td>0.81315</td>\n",
       "      <td>0.69795</td>\n",
       "      <td>0.50782</td>\n",
       "      <td>0.27872</td>\n",
       "      <td>0.057107</td>\n",
       "      <td>...</td>\n",
       "      <td>2.10570</td>\n",
       "      <td>1.604100</td>\n",
       "      <td>1.02850</td>\n",
       "      <td>0.41160</td>\n",
       "      <td>-0.21645</td>\n",
       "      <td>-0.82711</td>\n",
       "      <td>-1.39570</td>\n",
       "      <td>-1.89080</td>\n",
       "      <td>-2.27250</td>\n",
       "      <td>-2.51630</td>\n",
       "    </tr>\n",
       "  </tbody>\n",
       "</table>\n",
       "<p>5 rows × 500 columns</p>\n",
       "</div>"
      ],
      "text/plain": [
       "      Time-0   Time-1    Time-2   Time-3   Time-4   Time-5   Time-6   Time-7  \\\n",
       "3   1.240300  1.33120  1.386600  1.38320  1.30600  1.14280  0.87861  0.53229   \n",
       "5   0.659020  0.32579  0.019658 -0.22144 -0.39331 -0.51609 -0.60286 -0.66132   \n",
       "8  -1.064300 -1.10270 -1.095800 -1.05370 -0.96171 -0.80527 -0.55537 -0.20358   \n",
       "9  -1.196700 -0.93059 -0.608550 -0.23722  0.17714  0.61496  1.04970  1.44420   \n",
       "11 -0.033265  0.25006  0.514420  0.71697  0.82385  0.81315  0.69795  0.50782   \n",
       "\n",
       "     Time-8    Time-9    ...     Time-490  Time-491  Time-492  Time-493  \\\n",
       "3   0.14002 -0.258260    ...     -0.82026 -1.124600  -1.30200  -1.34060   \n",
       "5  -0.70627 -0.731020    ...      0.24442  0.045383  -0.16730  -0.38287   \n",
       "8   0.20456  0.607480    ...     -0.87814 -1.131700  -1.25970  -1.25340   \n",
       "9   1.76180  1.968200    ...     -0.11264  0.162020   0.42344   0.65631   \n",
       "11  0.27872  0.057107    ...      2.10570  1.604100   1.02850   0.41160   \n",
       "\n",
       "    Time-494  Time-495  Time-496  Time-497  Time-498  Time-499  \n",
       "3   -1.27140  -1.14640  -1.01130  -0.93122  -0.93450  -1.00130  \n",
       "5   -0.59915  -0.78611  -0.91357  -0.93232  -0.81169  -0.55159  \n",
       "8   -1.11580  -0.87028  -0.55820  -0.23237   0.06438   0.31117  \n",
       "9    0.85193   1.01120   1.12880   1.19010   1.17520   1.06690  \n",
       "11  -0.21645  -0.82711  -1.39570  -1.89080  -2.27250  -2.51630  \n",
       "\n",
       "[5 rows x 500 columns]"
      ]
     },
     "execution_count": 5,
     "metadata": {},
     "output_type": "execute_result"
    }
   ],
   "source": [
    "train_data_1=train_data.loc[train_data['Target'] == 1]\n",
    "train_data_1=train_data_1[train_data_1.columns[1:501]]\n",
    "train_data_1.head() "
   ]
  },
  {
   "cell_type": "code",
   "execution_count": 6,
   "metadata": {
    "scrolled": false
   },
   "outputs": [
    {
     "data": {
      "text/html": [
       "<div>\n",
       "<style>\n",
       "    .dataframe thead tr:only-child th {\n",
       "        text-align: right;\n",
       "    }\n",
       "\n",
       "    .dataframe thead th {\n",
       "        text-align: left;\n",
       "    }\n",
       "\n",
       "    .dataframe tbody tr th {\n",
       "        vertical-align: top;\n",
       "    }\n",
       "</style>\n",
       "<table border=\"1\" class=\"dataframe\">\n",
       "  <thead>\n",
       "    <tr style=\"text-align: right;\">\n",
       "      <th></th>\n",
       "      <th>Time-0</th>\n",
       "      <th>Time-1</th>\n",
       "      <th>Time-2</th>\n",
       "      <th>Time-3</th>\n",
       "      <th>Time-4</th>\n",
       "      <th>Time-5</th>\n",
       "      <th>Time-6</th>\n",
       "      <th>Time-7</th>\n",
       "      <th>Time-8</th>\n",
       "      <th>Time-9</th>\n",
       "      <th>...</th>\n",
       "      <th>Time-490</th>\n",
       "      <th>Time-491</th>\n",
       "      <th>Time-492</th>\n",
       "      <th>Time-493</th>\n",
       "      <th>Time-494</th>\n",
       "      <th>Time-495</th>\n",
       "      <th>Time-496</th>\n",
       "      <th>Time-497</th>\n",
       "      <th>Time-498</th>\n",
       "      <th>Time-499</th>\n",
       "    </tr>\n",
       "  </thead>\n",
       "  <tbody>\n",
       "    <tr>\n",
       "      <th>0</th>\n",
       "      <td>-0.14040</td>\n",
       "      <td>0.17164</td>\n",
       "      <td>0.30204</td>\n",
       "      <td>0.23280</td>\n",
       "      <td>0.033853</td>\n",
       "      <td>-0.22418</td>\n",
       "      <td>-0.46999</td>\n",
       "      <td>-0.645400</td>\n",
       "      <td>-0.61770</td>\n",
       "      <td>-0.367280</td>\n",
       "      <td>...</td>\n",
       "      <td>-0.31997</td>\n",
       "      <td>0.39090</td>\n",
       "      <td>0.97483</td>\n",
       "      <td>1.258700</td>\n",
       "      <td>1.14330</td>\n",
       "      <td>0.647090</td>\n",
       "      <td>-0.049582</td>\n",
       "      <td>-0.690400</td>\n",
       "      <td>-0.97660</td>\n",
       "      <td>-0.79426</td>\n",
       "    </tr>\n",
       "    <tr>\n",
       "      <th>1</th>\n",
       "      <td>0.33404</td>\n",
       "      <td>0.32225</td>\n",
       "      <td>0.45384</td>\n",
       "      <td>0.67185</td>\n",
       "      <td>0.887900</td>\n",
       "      <td>1.02050</td>\n",
       "      <td>1.05980</td>\n",
       "      <td>1.030300</td>\n",
       "      <td>0.95075</td>\n",
       "      <td>0.858440</td>\n",
       "      <td>...</td>\n",
       "      <td>0.43519</td>\n",
       "      <td>-0.34650</td>\n",
       "      <td>-0.92491</td>\n",
       "      <td>-1.208700</td>\n",
       "      <td>-1.24800</td>\n",
       "      <td>-1.140000</td>\n",
       "      <td>-1.041800</td>\n",
       "      <td>-1.041800</td>\n",
       "      <td>-1.15960</td>\n",
       "      <td>-1.37570</td>\n",
       "    </tr>\n",
       "    <tr>\n",
       "      <th>2</th>\n",
       "      <td>0.71669</td>\n",
       "      <td>0.74437</td>\n",
       "      <td>0.72591</td>\n",
       "      <td>0.66133</td>\n",
       "      <td>0.555220</td>\n",
       "      <td>0.41359</td>\n",
       "      <td>0.24658</td>\n",
       "      <td>0.065273</td>\n",
       "      <td>-0.12111</td>\n",
       "      <td>-0.301030</td>\n",
       "      <td>...</td>\n",
       "      <td>3.17100</td>\n",
       "      <td>2.27600</td>\n",
       "      <td>1.21950</td>\n",
       "      <td>0.081881</td>\n",
       "      <td>-1.05030</td>\n",
       "      <td>-2.092900</td>\n",
       "      <td>-2.983300</td>\n",
       "      <td>-3.675300</td>\n",
       "      <td>-4.13660</td>\n",
       "      <td>-4.33960</td>\n",
       "    </tr>\n",
       "    <tr>\n",
       "      <th>4</th>\n",
       "      <td>-1.15950</td>\n",
       "      <td>-1.20420</td>\n",
       "      <td>-1.16760</td>\n",
       "      <td>-1.03350</td>\n",
       "      <td>-0.818170</td>\n",
       "      <td>-0.55812</td>\n",
       "      <td>-0.29929</td>\n",
       "      <td>-0.093691</td>\n",
       "      <td>0.02277</td>\n",
       "      <td>0.044337</td>\n",
       "      <td>...</td>\n",
       "      <td>0.66085</td>\n",
       "      <td>0.44144</td>\n",
       "      <td>0.20618</td>\n",
       "      <td>-0.006941</td>\n",
       "      <td>-0.14692</td>\n",
       "      <td>-0.183080</td>\n",
       "      <td>-0.112380</td>\n",
       "      <td>0.008987</td>\n",
       "      <td>0.13141</td>\n",
       "      <td>0.18627</td>\n",
       "    </tr>\n",
       "    <tr>\n",
       "      <th>6</th>\n",
       "      <td>-0.35704</td>\n",
       "      <td>-0.34950</td>\n",
       "      <td>-0.47871</td>\n",
       "      <td>-0.67790</td>\n",
       "      <td>-0.884630</td>\n",
       "      <td>-1.00200</td>\n",
       "      <td>-0.98154</td>\n",
       "      <td>-0.741430</td>\n",
       "      <td>-0.25690</td>\n",
       "      <td>0.323460</td>\n",
       "      <td>...</td>\n",
       "      <td>0.25993</td>\n",
       "      <td>0.41821</td>\n",
       "      <td>0.40421</td>\n",
       "      <td>0.305150</td>\n",
       "      <td>0.15980</td>\n",
       "      <td>0.082486</td>\n",
       "      <td>0.122110</td>\n",
       "      <td>0.219020</td>\n",
       "      <td>0.26962</td>\n",
       "      <td>0.19748</td>\n",
       "    </tr>\n",
       "  </tbody>\n",
       "</table>\n",
       "<p>5 rows × 500 columns</p>\n",
       "</div>"
      ],
      "text/plain": [
       "    Time-0   Time-1   Time-2   Time-3    Time-4   Time-5   Time-6    Time-7  \\\n",
       "0 -0.14040  0.17164  0.30204  0.23280  0.033853 -0.22418 -0.46999 -0.645400   \n",
       "1  0.33404  0.32225  0.45384  0.67185  0.887900  1.02050  1.05980  1.030300   \n",
       "2  0.71669  0.74437  0.72591  0.66133  0.555220  0.41359  0.24658  0.065273   \n",
       "4 -1.15950 -1.20420 -1.16760 -1.03350 -0.818170 -0.55812 -0.29929 -0.093691   \n",
       "6 -0.35704 -0.34950 -0.47871 -0.67790 -0.884630 -1.00200 -0.98154 -0.741430   \n",
       "\n",
       "    Time-8    Time-9    ...     Time-490  Time-491  Time-492  Time-493  \\\n",
       "0 -0.61770 -0.367280    ...     -0.31997   0.39090   0.97483  1.258700   \n",
       "1  0.95075  0.858440    ...      0.43519  -0.34650  -0.92491 -1.208700   \n",
       "2 -0.12111 -0.301030    ...      3.17100   2.27600   1.21950  0.081881   \n",
       "4  0.02277  0.044337    ...      0.66085   0.44144   0.20618 -0.006941   \n",
       "6 -0.25690  0.323460    ...      0.25993   0.41821   0.40421  0.305150   \n",
       "\n",
       "   Time-494  Time-495  Time-496  Time-497  Time-498  Time-499  \n",
       "0   1.14330  0.647090 -0.049582 -0.690400  -0.97660  -0.79426  \n",
       "1  -1.24800 -1.140000 -1.041800 -1.041800  -1.15960  -1.37570  \n",
       "2  -1.05030 -2.092900 -2.983300 -3.675300  -4.13660  -4.33960  \n",
       "4  -0.14692 -0.183080 -0.112380  0.008987   0.13141   0.18627  \n",
       "6   0.15980  0.082486  0.122110  0.219020   0.26962   0.19748  \n",
       "\n",
       "[5 rows x 500 columns]"
      ]
     },
     "execution_count": 6,
     "metadata": {},
     "output_type": "execute_result"
    }
   ],
   "source": [
    "train_data_1_neg=train_data.loc[train_data['Target'] == -1]\n",
    "train_data_1_neg=train_data_1_neg[train_data_1_neg.columns[1:501]]\n",
    "train_data_1_neg.head() "
   ]
  },
  {
   "cell_type": "markdown",
   "metadata": {},
   "source": [
    "# 2. Plot & analyze several training examples of each class using plt.plot (from matplotlib import pyplot as plt)"
   ]
  },
  {
   "cell_type": "markdown",
   "metadata": {},
   "source": [
    "#### 6. Plot some charts for different rows from the train dataframe"
   ]
  },
  {
   "cell_type": "code",
   "execution_count": 7,
   "metadata": {
    "scrolled": false
   },
   "outputs": [
    {
     "data": {
      "text/plain": [
       "Text(0.5,1,'100 (class -1)')"
      ]
     },
     "execution_count": 7,
     "metadata": {},
     "output_type": "execute_result"
    },
    {
     "data": {
      "image/png": "[encoded data removed]",
      "text/plain": [
       "<matplotlib.figure.Figure at 0xbee2ef1470>"
      ]
     },
     "metadata": {},
     "output_type": "display_data"
    }
   ],
   "source": [
    "plt. figure(figsize=(20,5))\n",
    "plt.subplot (2, 3, 1)\n",
    "plt.plot(range(0, 500),train_data_1.iloc[0])\n",
    "plt.title('0 (class 1)')\n",
    "\n",
    "plt.subplot (2, 3, 2)\n",
    "plt.plot(range(0, 500),train_data_1.iloc[50])\n",
    "plt.title('50 (class 1)')\n",
    "\n",
    "plt.subplot (2, 3, 3)\n",
    "plt.plot(range(0, 500),train_data_1.iloc[70])\n",
    "plt.title('70 (class 1)')\n",
    "\n",
    "plt.subplot (2, 3, 4)\n",
    "plt.plot(range(0, 500),train_data_1_neg.iloc[1])\n",
    "plt.title('1 (class -1)')\n",
    "\n",
    "plt.subplot (2, 3, 5)\n",
    "plt.plot(range(0, 500),train_data_1_neg.iloc[20])\n",
    "plt.title('20 (class -1)')\n",
    "\n",
    "plt.subplot (2, 3, 6)\n",
    "plt.plot(range(0, 500),train_data_1_neg.iloc[100])\n",
    "plt.title('100 (class -1)')"
   ]
  },
  {
   "cell_type": "markdown",
   "metadata": {},
   "source": [
    "#### 7. Statistics information"
   ]
  },
  {
   "cell_type": "code",
   "execution_count": 8,
   "metadata": {},
   "outputs": [
    {
     "data": {
      "text/plain": [
       "count    5.000000e+02\n",
       "mean    -9.692000e-07\n",
       "std      1.000001e+00\n",
       "min     -2.852200e+00\n",
       "25%     -6.981975e-01\n",
       "50%      2.384400e-03\n",
       "75%      6.274975e-01\n",
       "max      2.632600e+00\n",
       "Name: 9, dtype: float64"
      ]
     },
     "execution_count": 8,
     "metadata": {},
     "output_type": "execute_result"
    }
   ],
   "source": [
    "train_1 = train_data_1.iloc[3]\n",
    "train_1.describe()"
   ]
  },
  {
   "cell_type": "code",
   "execution_count": 9,
   "metadata": {
    "scrolled": false
   },
   "outputs": [
    {
     "data": {
      "text/plain": [
       "count    5.000000e+02\n",
       "mean    -9.692000e-07\n",
       "std      1.000001e+00\n",
       "min     -2.852200e+00\n",
       "25%     -6.981975e-01\n",
       "50%      2.384400e-03\n",
       "75%      6.274975e-01\n",
       "max      2.632600e+00\n",
       "Name: 9, dtype: float64"
      ]
     },
     "execution_count": 9,
     "metadata": {},
     "output_type": "execute_result"
    }
   ],
   "source": [
    "train_1_neg = train_data_1_neg.iloc[4]\n",
    "train_1.describe()"
   ]
  },
  {
   "cell_type": "markdown",
   "metadata": {},
   "source": [
    "# 3. Propose several features potentially useful for classification (for example, the maximal absolute value of a time series)"
   ]
  },
  {
   "cell_type": "markdown",
   "metadata": {},
   "source": [
    "#### 8. Try to check standard deviation for the 1 discrete difference "
   ]
  },
  {
   "cell_type": "code",
   "execution_count": 10,
   "metadata": {
    "collapsed": true
   },
   "outputs": [],
   "source": [
    "train_data_1['std'] = train_data_1[train_data_1.columns[1:501]].apply(lambda x: x.diff(1).std(),axis=1)\n",
    "train_data_1_neg['std_neg'] = train_data_1_neg[train_data_1_neg.columns[1:501]].apply(lambda x: x.diff(1).std(),axis=1)"
   ]
  },
  {
   "cell_type": "code",
   "execution_count": 11,
   "metadata": {
    "scrolled": false
   },
   "outputs": [
    {
     "data": {
      "text/html": [
       "<div>\n",
       "<style>\n",
       "    .dataframe thead tr:only-child th {\n",
       "        text-align: right;\n",
       "    }\n",
       "\n",
       "    .dataframe thead th {\n",
       "        text-align: left;\n",
       "    }\n",
       "\n",
       "    .dataframe tbody tr th {\n",
       "        vertical-align: top;\n",
       "    }\n",
       "</style>\n",
       "<table border=\"1\" class=\"dataframe\">\n",
       "  <thead>\n",
       "    <tr style=\"text-align: right;\">\n",
       "      <th></th>\n",
       "      <th>Time-0</th>\n",
       "      <th>Time-1</th>\n",
       "      <th>Time-2</th>\n",
       "      <th>Time-3</th>\n",
       "      <th>Time-4</th>\n",
       "      <th>Time-5</th>\n",
       "      <th>Time-6</th>\n",
       "      <th>Time-7</th>\n",
       "      <th>Time-8</th>\n",
       "      <th>Time-9</th>\n",
       "      <th>...</th>\n",
       "      <th>Time-491</th>\n",
       "      <th>Time-492</th>\n",
       "      <th>Time-493</th>\n",
       "      <th>Time-494</th>\n",
       "      <th>Time-495</th>\n",
       "      <th>Time-496</th>\n",
       "      <th>Time-497</th>\n",
       "      <th>Time-498</th>\n",
       "      <th>Time-499</th>\n",
       "      <th>std_neg</th>\n",
       "    </tr>\n",
       "  </thead>\n",
       "  <tbody>\n",
       "    <tr>\n",
       "      <th>0</th>\n",
       "      <td>-0.14040</td>\n",
       "      <td>0.17164</td>\n",
       "      <td>0.30204</td>\n",
       "      <td>0.23280</td>\n",
       "      <td>0.033853</td>\n",
       "      <td>-0.22418</td>\n",
       "      <td>-0.46999</td>\n",
       "      <td>-0.645400</td>\n",
       "      <td>-0.61770</td>\n",
       "      <td>-0.367280</td>\n",
       "      <td>...</td>\n",
       "      <td>0.39090</td>\n",
       "      <td>0.97483</td>\n",
       "      <td>1.258700</td>\n",
       "      <td>1.14330</td>\n",
       "      <td>0.647090</td>\n",
       "      <td>-0.049582</td>\n",
       "      <td>-0.690400</td>\n",
       "      <td>-0.97660</td>\n",
       "      <td>-0.79426</td>\n",
       "      <td>0.413789</td>\n",
       "    </tr>\n",
       "    <tr>\n",
       "      <th>1</th>\n",
       "      <td>0.33404</td>\n",
       "      <td>0.32225</td>\n",
       "      <td>0.45384</td>\n",
       "      <td>0.67185</td>\n",
       "      <td>0.887900</td>\n",
       "      <td>1.02050</td>\n",
       "      <td>1.05980</td>\n",
       "      <td>1.030300</td>\n",
       "      <td>0.95075</td>\n",
       "      <td>0.858440</td>\n",
       "      <td>...</td>\n",
       "      <td>-0.34650</td>\n",
       "      <td>-0.92491</td>\n",
       "      <td>-1.208700</td>\n",
       "      <td>-1.24800</td>\n",
       "      <td>-1.140000</td>\n",
       "      <td>-1.041800</td>\n",
       "      <td>-1.041800</td>\n",
       "      <td>-1.15960</td>\n",
       "      <td>-1.37570</td>\n",
       "      <td>0.410053</td>\n",
       "    </tr>\n",
       "    <tr>\n",
       "      <th>2</th>\n",
       "      <td>0.71669</td>\n",
       "      <td>0.74437</td>\n",
       "      <td>0.72591</td>\n",
       "      <td>0.66133</td>\n",
       "      <td>0.555220</td>\n",
       "      <td>0.41359</td>\n",
       "      <td>0.24658</td>\n",
       "      <td>0.065273</td>\n",
       "      <td>-0.12111</td>\n",
       "      <td>-0.301030</td>\n",
       "      <td>...</td>\n",
       "      <td>2.27600</td>\n",
       "      <td>1.21950</td>\n",
       "      <td>0.081881</td>\n",
       "      <td>-1.05030</td>\n",
       "      <td>-2.092900</td>\n",
       "      <td>-2.983300</td>\n",
       "      <td>-3.675300</td>\n",
       "      <td>-4.13660</td>\n",
       "      <td>-4.33960</td>\n",
       "      <td>0.258049</td>\n",
       "    </tr>\n",
       "    <tr>\n",
       "      <th>4</th>\n",
       "      <td>-1.15950</td>\n",
       "      <td>-1.20420</td>\n",
       "      <td>-1.16760</td>\n",
       "      <td>-1.03350</td>\n",
       "      <td>-0.818170</td>\n",
       "      <td>-0.55812</td>\n",
       "      <td>-0.29929</td>\n",
       "      <td>-0.093691</td>\n",
       "      <td>0.02277</td>\n",
       "      <td>0.044337</td>\n",
       "      <td>...</td>\n",
       "      <td>0.44144</td>\n",
       "      <td>0.20618</td>\n",
       "      <td>-0.006941</td>\n",
       "      <td>-0.14692</td>\n",
       "      <td>-0.183080</td>\n",
       "      <td>-0.112380</td>\n",
       "      <td>0.008987</td>\n",
       "      <td>0.13141</td>\n",
       "      <td>0.18627</td>\n",
       "      <td>0.266246</td>\n",
       "    </tr>\n",
       "    <tr>\n",
       "      <th>6</th>\n",
       "      <td>-0.35704</td>\n",
       "      <td>-0.34950</td>\n",
       "      <td>-0.47871</td>\n",
       "      <td>-0.67790</td>\n",
       "      <td>-0.884630</td>\n",
       "      <td>-1.00200</td>\n",
       "      <td>-0.98154</td>\n",
       "      <td>-0.741430</td>\n",
       "      <td>-0.25690</td>\n",
       "      <td>0.323460</td>\n",
       "      <td>...</td>\n",
       "      <td>0.41821</td>\n",
       "      <td>0.40421</td>\n",
       "      <td>0.305150</td>\n",
       "      <td>0.15980</td>\n",
       "      <td>0.082486</td>\n",
       "      <td>0.122110</td>\n",
       "      <td>0.219020</td>\n",
       "      <td>0.26962</td>\n",
       "      <td>0.19748</td>\n",
       "      <td>0.424880</td>\n",
       "    </tr>\n",
       "  </tbody>\n",
       "</table>\n",
       "<p>5 rows × 501 columns</p>\n",
       "</div>"
      ],
      "text/plain": [
       "    Time-0   Time-1   Time-2   Time-3    Time-4   Time-5   Time-6    Time-7  \\\n",
       "0 -0.14040  0.17164  0.30204  0.23280  0.033853 -0.22418 -0.46999 -0.645400   \n",
       "1  0.33404  0.32225  0.45384  0.67185  0.887900  1.02050  1.05980  1.030300   \n",
       "2  0.71669  0.74437  0.72591  0.66133  0.555220  0.41359  0.24658  0.065273   \n",
       "4 -1.15950 -1.20420 -1.16760 -1.03350 -0.818170 -0.55812 -0.29929 -0.093691   \n",
       "6 -0.35704 -0.34950 -0.47871 -0.67790 -0.884630 -1.00200 -0.98154 -0.741430   \n",
       "\n",
       "    Time-8    Time-9    ...     Time-491  Time-492  Time-493  Time-494  \\\n",
       "0 -0.61770 -0.367280    ...      0.39090   0.97483  1.258700   1.14330   \n",
       "1  0.95075  0.858440    ...     -0.34650  -0.92491 -1.208700  -1.24800   \n",
       "2 -0.12111 -0.301030    ...      2.27600   1.21950  0.081881  -1.05030   \n",
       "4  0.02277  0.044337    ...      0.44144   0.20618 -0.006941  -0.14692   \n",
       "6 -0.25690  0.323460    ...      0.41821   0.40421  0.305150   0.15980   \n",
       "\n",
       "   Time-495  Time-496  Time-497  Time-498  Time-499   std_neg  \n",
       "0  0.647090 -0.049582 -0.690400  -0.97660  -0.79426  0.413789  \n",
       "1 -1.140000 -1.041800 -1.041800  -1.15960  -1.37570  0.410053  \n",
       "2 -2.092900 -2.983300 -3.675300  -4.13660  -4.33960  0.258049  \n",
       "4 -0.183080 -0.112380  0.008987   0.13141   0.18627  0.266246  \n",
       "6  0.082486  0.122110  0.219020   0.26962   0.19748  0.424880  \n",
       "\n",
       "[5 rows x 501 columns]"
      ]
     },
     "execution_count": 11,
     "metadata": {},
     "output_type": "execute_result"
    }
   ],
   "source": [
    "train_data_1_neg.head()"
   ]
  },
  {
   "cell_type": "markdown",
   "metadata": {},
   "source": [
    "# 4. Calculate the proposed features using numpy and visualize the new representation of training examples "
   ]
  },
  {
   "cell_type": "markdown",
   "metadata": {},
   "source": [
    "#### 9. KDE distribution of std for each classes"
   ]
  },
  {
   "cell_type": "code",
   "execution_count": 12,
   "metadata": {
    "scrolled": true
   },
   "outputs": [
    {
     "data": {
      "image/png": "[encoded data removed]",
      "text/plain": [
       "<matplotlib.figure.Figure at 0xbee2908128>"
      ]
     },
     "metadata": {},
     "output_type": "display_data"
    }
   ],
   "source": [
    "sns.kdeplot(train_data_1['std'])\n",
    "sns.kdeplot(train_data_1_neg['std_neg'])\n",
    "plt.show()"
   ]
  },
  {
   "cell_type": "markdown",
   "metadata": {},
   "source": [
    "#### 10. Std distribution by row"
   ]
  },
  {
   "cell_type": "code",
   "execution_count": 13,
   "metadata": {
    "scrolled": true
   },
   "outputs": [
    {
     "data": {
      "text/plain": [
       "[<matplotlib.lines.Line2D at 0xbee276bda0>]"
      ]
     },
     "execution_count": 13,
     "metadata": {},
     "output_type": "execute_result"
    },
    {
     "data": {
      "image/png": "[encoded data removed]",
      "text/plain": [
       "<matplotlib.figure.Figure at 0xbee276bbe0>"
      ]
     },
     "metadata": {},
     "output_type": "display_data"
    }
   ],
   "source": [
    "plt.plot(range(639),train_data_1['std'])\n",
    "plt.plot(range(681),train_data_1_neg['std_neg'])"
   ]
  },
  {
   "cell_type": "markdown",
   "metadata": {},
   "source": [
    "#### 11. Score calculation"
   ]
  },
  {
   "cell_type": "code",
   "execution_count": 14,
   "metadata": {
    "collapsed": true
   },
   "outputs": [],
   "source": [
    "test_data['unique'] = test_data[test_data.columns[1:501]].apply(lambda x: x.diff(1).std(),axis=1)"
   ]
  },
  {
   "cell_type": "code",
   "execution_count": 15,
   "metadata": {
    "collapsed": true
   },
   "outputs": [],
   "source": [
    "test_data['my_target']=0\n",
    "test_data['my_target'] = test_data['unique'].map(lambda x: -1 if (x >= 0.34) else 1)"
   ]
  },
  {
   "cell_type": "code",
   "execution_count": 16,
   "metadata": {},
   "outputs": [
    {
     "data": {
      "text/plain": [
       "0.65870591502360454"
      ]
     },
     "execution_count": 16,
     "metadata": {},
     "output_type": "execute_result"
    }
   ],
   "source": [
    "np.mean(test_data['my_target']==test_data['Target'])"
   ]
  },
  {
   "cell_type": "markdown",
   "metadata": {},
   "source": [
    "### Since the classification based on standard deviation of the dicrete difference doesn't lead to satisfactory result, there is another classification features"
   ]
  },
  {
   "cell_type": "markdown",
   "metadata": {},
   "source": [
    "# 5. Repeat steps 3-4 if needed"
   ]
  },
  {
   "cell_type": "markdown",
   "metadata": {},
   "source": [
    "#### 12. Unique values calculation"
   ]
  },
  {
   "cell_type": "code",
   "execution_count": 17,
   "metadata": {
    "collapsed": true
   },
   "outputs": [],
   "source": [
    "train_data_1['unique'] = train_data_1[train_data_1.columns[1:501]].apply(lambda x: len(x.unique()),axis=1)\n",
    "train_data_1_neg['unique_neg'] = train_data_1_neg[train_data_1_neg.columns[1:501]].apply(lambda x: len(x.unique()),axis=1)"
   ]
  },
  {
   "cell_type": "markdown",
   "metadata": {},
   "source": [
    "#### 13. KDE distributions chart"
   ]
  },
  {
   "cell_type": "code",
   "execution_count": 18,
   "metadata": {
    "scrolled": true
   },
   "outputs": [
    {
     "data": {
      "image/png": "[encoded data removed]",
      "text/plain": [
       "<matplotlib.figure.Figure at 0xbee27392e8>"
      ]
     },
     "metadata": {},
     "output_type": "display_data"
    }
   ],
   "source": [
    "sns.kdeplot(train_data_1['unique'])\n",
    "sns.kdeplot(train_data_1_neg['unique_neg'])\n",
    "plt.show()"
   ]
  },
  {
   "cell_type": "markdown",
   "metadata": {},
   "source": [
    "#### 14. Unique values calculation for tets dataframe"
   ]
  },
  {
   "cell_type": "code",
   "execution_count": 19,
   "metadata": {
    "scrolled": false
   },
   "outputs": [
    {
     "data": {
      "text/html": [
       "<div>\n",
       "<style>\n",
       "    .dataframe thead tr:only-child th {\n",
       "        text-align: right;\n",
       "    }\n",
       "\n",
       "    .dataframe thead th {\n",
       "        text-align: left;\n",
       "    }\n",
       "\n",
       "    .dataframe tbody tr th {\n",
       "        vertical-align: top;\n",
       "    }\n",
       "</style>\n",
       "<table border=\"1\" class=\"dataframe\">\n",
       "  <thead>\n",
       "    <tr style=\"text-align: right;\">\n",
       "      <th></th>\n",
       "      <th>Target</th>\n",
       "      <th>Time-0</th>\n",
       "      <th>Time-1</th>\n",
       "      <th>Time-2</th>\n",
       "      <th>Time-3</th>\n",
       "      <th>Time-4</th>\n",
       "      <th>Time-5</th>\n",
       "      <th>Time-6</th>\n",
       "      <th>Time-7</th>\n",
       "      <th>Time-8</th>\n",
       "      <th>...</th>\n",
       "      <th>Time-492</th>\n",
       "      <th>Time-493</th>\n",
       "      <th>Time-494</th>\n",
       "      <th>Time-495</th>\n",
       "      <th>Time-496</th>\n",
       "      <th>Time-497</th>\n",
       "      <th>Time-498</th>\n",
       "      <th>Time-499</th>\n",
       "      <th>unique</th>\n",
       "      <th>my_target</th>\n",
       "    </tr>\n",
       "  </thead>\n",
       "  <tbody>\n",
       "    <tr>\n",
       "      <th>0</th>\n",
       "      <td>-1</td>\n",
       "      <td>-0.79717</td>\n",
       "      <td>-0.664390</td>\n",
       "      <td>-0.37301</td>\n",
       "      <td>0.040815</td>\n",
       "      <td>0.52694</td>\n",
       "      <td>0.98429</td>\n",
       "      <td>1.3531</td>\n",
       "      <td>1.5781</td>\n",
       "      <td>1.6593</td>\n",
       "      <td>...</td>\n",
       "      <td>0.36207</td>\n",
       "      <td>0.092083</td>\n",
       "      <td>-0.081268</td>\n",
       "      <td>-0.21257</td>\n",
       "      <td>-0.39146</td>\n",
       "      <td>-0.66439</td>\n",
       "      <td>-1.073800</td>\n",
       "      <td>-1.56430</td>\n",
       "      <td>429</td>\n",
       "      <td>1</td>\n",
       "    </tr>\n",
       "    <tr>\n",
       "      <th>1</th>\n",
       "      <td>1</td>\n",
       "      <td>0.80485</td>\n",
       "      <td>0.634630</td>\n",
       "      <td>0.37347</td>\n",
       "      <td>0.038343</td>\n",
       "      <td>-0.34099</td>\n",
       "      <td>-0.74086</td>\n",
       "      <td>-1.1097</td>\n",
       "      <td>-1.3954</td>\n",
       "      <td>-1.5702</td>\n",
       "      <td>...</td>\n",
       "      <td>-0.25814</td>\n",
       "      <td>-0.510580</td>\n",
       "      <td>-0.683650</td>\n",
       "      <td>-0.77382</td>\n",
       "      <td>-0.78525</td>\n",
       "      <td>-0.71489</td>\n",
       "      <td>-0.560440</td>\n",
       "      <td>-0.31909</td>\n",
       "      <td>500</td>\n",
       "      <td>1</td>\n",
       "    </tr>\n",
       "    <tr>\n",
       "      <th>2</th>\n",
       "      <td>-1</td>\n",
       "      <td>0.72799</td>\n",
       "      <td>0.111280</td>\n",
       "      <td>-0.49912</td>\n",
       "      <td>-1.068600</td>\n",
       "      <td>-1.57840</td>\n",
       "      <td>-1.99050</td>\n",
       "      <td>-2.3020</td>\n",
       "      <td>-2.5034</td>\n",
       "      <td>-2.5852</td>\n",
       "      <td>...</td>\n",
       "      <td>0.50773</td>\n",
       "      <td>0.517170</td>\n",
       "      <td>0.504590</td>\n",
       "      <td>0.47627</td>\n",
       "      <td>0.43851</td>\n",
       "      <td>0.39446</td>\n",
       "      <td>0.339400</td>\n",
       "      <td>0.25539</td>\n",
       "      <td>422</td>\n",
       "      <td>1</td>\n",
       "    </tr>\n",
       "    <tr>\n",
       "      <th>3</th>\n",
       "      <td>-1</td>\n",
       "      <td>-0.23444</td>\n",
       "      <td>-0.502160</td>\n",
       "      <td>-0.73249</td>\n",
       "      <td>-0.946130</td>\n",
       "      <td>-1.13970</td>\n",
       "      <td>-1.32330</td>\n",
       "      <td>-1.4902</td>\n",
       "      <td>-1.6071</td>\n",
       "      <td>-1.6204</td>\n",
       "      <td>...</td>\n",
       "      <td>-0.92276</td>\n",
       "      <td>-0.929440</td>\n",
       "      <td>-0.909410</td>\n",
       "      <td>-0.83597</td>\n",
       "      <td>-0.69577</td>\n",
       "      <td>-0.47879</td>\n",
       "      <td>-0.188710</td>\n",
       "      <td>0.11974</td>\n",
       "      <td>423</td>\n",
       "      <td>1</td>\n",
       "    </tr>\n",
       "    <tr>\n",
       "      <th>4</th>\n",
       "      <td>-1</td>\n",
       "      <td>-0.17133</td>\n",
       "      <td>-0.062285</td>\n",
       "      <td>0.23583</td>\n",
       "      <td>0.710400</td>\n",
       "      <td>1.24000</td>\n",
       "      <td>1.64980</td>\n",
       "      <td>1.8763</td>\n",
       "      <td>1.8655</td>\n",
       "      <td>1.7038</td>\n",
       "      <td>...</td>\n",
       "      <td>0.69745</td>\n",
       "      <td>0.731970</td>\n",
       "      <td>0.808540</td>\n",
       "      <td>0.83982</td>\n",
       "      <td>0.73305</td>\n",
       "      <td>0.43752</td>\n",
       "      <td>-0.026585</td>\n",
       "      <td>-0.60221</td>\n",
       "      <td>451</td>\n",
       "      <td>-1</td>\n",
       "    </tr>\n",
       "  </tbody>\n",
       "</table>\n",
       "<p>5 rows × 503 columns</p>\n",
       "</div>"
      ],
      "text/plain": [
       "   Target   Time-0    Time-1   Time-2    Time-3   Time-4   Time-5  Time-6  \\\n",
       "0      -1 -0.79717 -0.664390 -0.37301  0.040815  0.52694  0.98429  1.3531   \n",
       "1       1  0.80485  0.634630  0.37347  0.038343 -0.34099 -0.74086 -1.1097   \n",
       "2      -1  0.72799  0.111280 -0.49912 -1.068600 -1.57840 -1.99050 -2.3020   \n",
       "3      -1 -0.23444 -0.502160 -0.73249 -0.946130 -1.13970 -1.32330 -1.4902   \n",
       "4      -1 -0.17133 -0.062285  0.23583  0.710400  1.24000  1.64980  1.8763   \n",
       "\n",
       "   Time-7  Time-8    ...      Time-492  Time-493  Time-494  Time-495  \\\n",
       "0  1.5781  1.6593    ...       0.36207  0.092083 -0.081268  -0.21257   \n",
       "1 -1.3954 -1.5702    ...      -0.25814 -0.510580 -0.683650  -0.77382   \n",
       "2 -2.5034 -2.5852    ...       0.50773  0.517170  0.504590   0.47627   \n",
       "3 -1.6071 -1.6204    ...      -0.92276 -0.929440 -0.909410  -0.83597   \n",
       "4  1.8655  1.7038    ...       0.69745  0.731970  0.808540   0.83982   \n",
       "\n",
       "   Time-496  Time-497  Time-498  Time-499  unique  my_target  \n",
       "0  -0.39146  -0.66439 -1.073800  -1.56430     429          1  \n",
       "1  -0.78525  -0.71489 -0.560440  -0.31909     500          1  \n",
       "2   0.43851   0.39446  0.339400   0.25539     422          1  \n",
       "3  -0.69577  -0.47879 -0.188710   0.11974     423          1  \n",
       "4   0.73305   0.43752 -0.026585  -0.60221     451         -1  \n",
       "\n",
       "[5 rows x 503 columns]"
      ]
     },
     "execution_count": 19,
     "metadata": {},
     "output_type": "execute_result"
    }
   ],
   "source": [
    "test_data['unique'] = test_data[test_data.columns[1:501]].apply(lambda x: len(x.unique()),axis=1)\n",
    "test_data.head()"
   ]
  },
  {
   "cell_type": "markdown",
   "metadata": {},
   "source": [
    "# 6. ropose a simple decision rule using the proposed features. Estimate accuracy of classification using the test set."
   ]
  },
  {
   "cell_type": "markdown",
   "metadata": {},
   "source": [
    "#### 15. Score calculation"
   ]
  },
  {
   "cell_type": "code",
   "execution_count": 20,
   "metadata": {
    "collapsed": true
   },
   "outputs": [],
   "source": [
    "test_data['my_target']=0\n",
    "test_data['my_target'] = test_data['unique'].map(lambda x: 1 if (x >= 480) else -1)"
   ]
  },
  {
   "cell_type": "code",
   "execution_count": 21,
   "metadata": {},
   "outputs": [
    {
     "data": {
      "text/plain": [
       "1.0"
      ]
     },
     "execution_count": 21,
     "metadata": {},
     "output_type": "execute_result"
    }
   ],
   "source": [
    "np.mean(test_data['my_target']==test_data['Target'])"
   ]
  },
  {
   "cell_type": "code",
   "execution_count": null,
   "metadata": {
    "collapsed": true
   },
   "outputs": [],
   "source": []
  }
 ],
 "metadata": {
  "kernelspec": {
   "display_name": "Python 3 (ipykernel)",
   "language": "python",
   "name": "python3"
  },
  "language_info": {
   "codemirror_mode": {
    "name": "ipython",
    "version": 3
   },
   "file_extension": ".py",
   "mimetype": "text/x-python",
   "name": "python",
   "nbconvert_exporter": "python",
   "pygments_lexer": "ipython3",
   "version": "3.9.7"
  }
 },
 "nbformat": 4,
 "nbformat_minor": 2
}
